{
  "nbformat": 4,
  "nbformat_minor": 0,
  "metadata": {
    "colab": {
      "provenance": []
    },
    "kernelspec": {
      "name": "python3",
      "display_name": "Python 3"
    },
    "language_info": {
      "name": "python"
    }
  },
  "cells": [
    {
      "cell_type": "markdown",
      "source": [
        "Write a program to enter a string. Calculate the length of the string. Find the substring country.\n",
        "Count the occurences of each word in the given sentence.\n",
        "If the String as input is India is my motherland. I love my country. Capital of India is New Delhi."
      ],
      "metadata": {
        "id": "pETDcXxuOI9X"
      }
    },
    {
      "cell_type": "code",
      "execution_count": null,
      "metadata": {
        "colab": {
          "base_uri": "https://localhost:8080/"
        },
        "id": "opLPzD6OOCmm",
        "outputId": "12fa90fc-70fc-4534-e119-b23b689418c6"
      },
      "outputs": [
        {
          "output_type": "stream",
          "name": "stdout",
          "text": [
            "Enter a string: India is my motherland. I love my country. Capital of India is New Delhi.\n",
            "Length of the string: 73\n",
            "Is the substring 'country' present in the string? Yes\n",
            "Occurrences of each word in the given sentence:\n",
            "india: 2\n",
            "is: 2\n",
            "my: 2\n",
            "motherland: 1\n",
            "i: 1\n",
            "love: 1\n",
            "country: 1\n",
            "capital: 1\n",
            "of: 1\n",
            "new: 1\n",
            "delhi: 1\n"
          ]
        }
      ],
      "source": [
        "def count_word_occurrences(sentence):\n",
        "    words = sentence.split()\n",
        "    word_count = {}\n",
        "    for word in words:\n",
        "        word = word.lower().strip('.')\n",
        "        if word in word_count:\n",
        "            word_count[word] += 1\n",
        "        else:\n",
        "            word_count[word] = 1\n",
        "    return word_count\n",
        "def find_substring(sentence, substring):\n",
        "    if substring in sentence:\n",
        "        return True\n",
        "    else:\n",
        "        return False\n",
        "if __name__ == \"__main__\":\n",
        "    input_string = input(\"Enter a string: \")\n",
        "    string_length = len(input_string)\n",
        "    print(f\"Length of the string: {string_length}\")\n",
        "    substring = \"country\"\n",
        "    is_substring_present = find_substring(input_string, substring)\n",
        "    print(f\"Is the substring '{substring}' present in the string? {'Yes' if is_substring_present else 'No'}\")\n",
        "    word_count = count_word_occurrences(input_string)\n",
        "    print(\"Occurrences of each word in the given sentence:\")\n",
        "    for word, count in word_count.items():\n",
        "        print(f\"{word}: {count}\")\n"
      ]
    },
    {
      "cell_type": "markdown",
      "source": [
        "Write a program that accepts a comma separated sequence of words as input and prints the words\n",
        "in a comma-separated sequence after sorting them alphabetically.\n",
        "Suppose the following input is supplied to the program:\n",
        "without,hello,bag,world\n",
        "Then, the output should be:\n",
        "bag,hello,without,world"
      ],
      "metadata": {
        "id": "X8XGB_WKR1qs"
      }
    },
    {
      "cell_type": "code",
      "source": [
        "if __name__ == \"__main__\":\n",
        "    input_string = input(\"Enter a comma-separated sequence of words: \")\n",
        "    words = input_string.split(',')\n",
        "    words.sort()\n",
        "    sorted_string = ','.join(words)\n",
        "    print(sorted_string)\n"
      ],
      "metadata": {
        "colab": {
          "base_uri": "https://localhost:8080/"
        },
        "id": "puydEPjvSfXf",
        "outputId": "5286cba4-ca30-438c-f0f2-189cb59a743a"
      },
      "execution_count": null,
      "outputs": [
        {
          "output_type": "stream",
          "name": "stdout",
          "text": [
            "Enter a comma-separated sequence of words: without,hello,bag,world\n",
            "bag,hello,without,world\n"
          ]
        }
      ]
    },
    {
      "cell_type": "markdown",
      "source": [
        "Write a program that accepts sequence of lines as input and prints the lines after making all\n",
        "characters in the sentence capitalized.\n",
        "Suppose the following input is supplied to the program:\n",
        "Hello world\n",
        "Practice makes perfect\n",
        "Then, the output should be:\n",
        "HELLO WORLD\n",
        "PRACTICE MAKES PERFECT"
      ],
      "metadata": {
        "id": "eWHUmBq2TW8y"
      }
    },
    {
      "cell_type": "code",
      "source": [
        "lines = [\n",
        "    \"Hello world\",\n",
        "    \"Practice makes perfect\"\n",
        "]\n",
        "for line in lines:\n",
        "    print(line.upper())\n"
      ],
      "metadata": {
        "colab": {
          "base_uri": "https://localhost:8080/"
        },
        "id": "ptcroKv0TpDm",
        "outputId": "59366218-be3a-4489-fad0-f44db9b362a3"
      },
      "execution_count": null,
      "outputs": [
        {
          "output_type": "stream",
          "name": "stdout",
          "text": [
            "HELLO WORLD\n",
            "PRACTICE MAKES PERFECT\n"
          ]
        }
      ]
    },
    {
      "cell_type": "markdown",
      "source": [
        "Write a program that accepts a sequence of whitespace separated words as input and prints the\n",
        "words after removing all duplicate words and sorting them alphanumerically.\n",
        "Suppose the following input is supplied to the program:\n",
        "hello world and practice makes perfect and hello world again\n",
        "Then, the output should be:\n",
        "again and hello makes perfect practice world"
      ],
      "metadata": {
        "id": "WPDPbINZW-Sq"
      }
    },
    {
      "cell_type": "code",
      "source": [
        "if __name__ == \"__main__\":\n",
        "    input_string = input(\"Enter a sequence of whitespace-separated words: \")\n",
        "    words = input_string.split()\n",
        "    unique_words = set(words)\n",
        "    sorted_words = sorted(unique_words)\n",
        "    sorted_string = ' '.join(sorted_words)\n",
        "    print(sorted_string)\n"
      ],
      "metadata": {
        "colab": {
          "base_uri": "https://localhost:8080/"
        },
        "id": "zS6KoSboXpCi",
        "outputId": "bb4d106d-b7a0-4750-f417-8d97bbc2b998"
      },
      "execution_count": null,
      "outputs": [
        {
          "output_type": "stream",
          "name": "stdout",
          "text": [
            "Enter a sequence of whitespace-separated words: hello world and practice makes perfect and hello world again\n",
            "again and hello makes perfect practice world\n"
          ]
        }
      ]
    },
    {
      "cell_type": "markdown",
      "source": [
        "Write a program that accepts a sentence and calculate the number of letters and digits.\n",
        "Suppose the following input is supplied to the program:\n",
        "hello world! 123\n",
        "Then, the output should be:\n",
        "LETTERS 10\n",
        "DIGITS 3"
      ],
      "metadata": {
        "id": "8fuYcYrJgJtd"
      }
    },
    {
      "cell_type": "code",
      "source": [
        "if __name__ == \"__main__\":\n",
        "    input_string = input(\"Enter a sentence: \")\n",
        "    letter_count = 0\n",
        "    digit_count = 0\n",
        "    for char in input_string:\n",
        "        if char.isalpha():\n",
        "            letter_count += 1\n",
        "        elif char.isdigit():\n",
        "            digit_count += 1\n",
        "    print(f\"LETTERS {letter_count}\")\n",
        "    print(f\"DIGITS {digit_count}\")\n"
      ],
      "metadata": {
        "colab": {
          "base_uri": "https://localhost:8080/"
        },
        "id": "mmAcICO6hdAA",
        "outputId": "2bca81c4-a044-4c97-d810-74018ddbdb79"
      },
      "execution_count": null,
      "outputs": [
        {
          "output_type": "stream",
          "name": "stdout",
          "text": [
            "Enter a sentence: hello world! 12396\n",
            "LETTERS 10\n",
            "DIGITS 5\n"
          ]
        }
      ]
    },
    {
      "cell_type": "markdown",
      "source": [
        "Write a program which accepts a string as input to print &quot;Yes&quot; if the string is &quot;yes&quot; or &quot;YES&quot; or\n",
        "&quot;Yes&quot;, otherwise print &quot;No&quot;."
      ],
      "metadata": {
        "id": "HmqrbusYhvG-"
      }
    },
    {
      "cell_type": "code",
      "source": [
        "if __name__ == \"__main__\":\n",
        "    input_string = input(\"Enter a string:\")\n",
        "    if input_string.lower() in [\"yes\", \"yes\", \"Yes\"]:\n",
        "        print(\"Yes\")\n",
        "    else:\n",
        "          print(\"No\")"
      ],
      "metadata": {
        "colab": {
          "base_uri": "https://localhost:8080/"
        },
        "id": "8JuY3NtAh-Ey",
        "outputId": "7dbed5ae-7b97-4428-c480-265d6aa65dc1"
      },
      "execution_count": null,
      "outputs": [
        {
          "output_type": "stream",
          "name": "stdout",
          "text": [
            "Enter a string:no\n",
            "No\n"
          ]
        }
      ]
    },
    {
      "cell_type": "markdown",
      "source": [
        "Write a program which accepts a sequence of words separated by whitespace as input to print the\n",
        "words composed of digits only.\n",
        "Example:\n",
        "If the following words is given as input to the program:\n",
        "2 cats and 3 dogs.\n",
        "Then, the output of the program should be:\n",
        "[&#39;2&#39;, &#39;3&#39;]"
      ],
      "metadata": {
        "id": "uITHkIQz0usf"
      }
    },
    {
      "cell_type": "code",
      "source": [
        "input_string = input(\"Enter a sequence of words separated by whitespace: \")\n",
        "words = input_string.split()\n",
        "digit_words = [word for word in words if word.isdigit()]\n",
        "\n",
        "print(digit_words)\n"
      ],
      "metadata": {
        "colab": {
          "base_uri": "https://localhost:8080/"
        },
        "id": "eELjz1II00qR",
        "outputId": "bf0e2e34-f355-4d7e-8da9-e65950b2abca"
      },
      "execution_count": null,
      "outputs": [
        {
          "output_type": "stream",
          "name": "stdout",
          "text": [
            "Enter a sequence of words separated by whitespace: 2 cats and 3 dogs\n",
            "['2', '3']\n"
          ]
        }
      ]
    },
    {
      "cell_type": "markdown",
      "source": [
        "Please write a program which count and print the numbers of each character in a string input by\n",
        "console.\n",
        "Example:\n",
        "If the following string is given as input to the program:\n",
        "abcdefgabc\n",
        "Then, the output of the program should be:\n",
        "a,2\n",
        "c,2\n",
        "b,2\n",
        "e,1\n",
        "d,1\n",
        "g,1\n",
        "f,1"
      ],
      "metadata": {
        "id": "4vwa5AuU19M7"
      }
    },
    {
      "cell_type": "code",
      "source": [
        "from collections import Counter\n",
        "input_string = input(\"Enter a string: \")\n",
        "char_count = Counter(input_string)\n",
        "for char, count in char_count.items():\n",
        "    print(f\"{char},{count}\")\n"
      ],
      "metadata": {
        "id": "yDmxGyktCgyh",
        "colab": {
          "base_uri": "https://localhost:8080/"
        },
        "outputId": "b7259edc-fc93-4fac-f622-6fc647179aac"
      },
      "execution_count": null,
      "outputs": [
        {
          "output_type": "stream",
          "name": "stdout",
          "text": [
            "Enter a string: abcdefgabc\n",
            "a,2\n",
            "b,2\n",
            "c,2\n",
            "d,1\n",
            "e,1\n",
            "f,1\n",
            "g,1\n"
          ]
        }
      ]
    },
    {
      "cell_type": "markdown",
      "source": [
        "Write a program that accepts a string\n",
        "I. 1.reverses it.\n",
        "II. 2.checks whether it is a palindrome.\n",
        "III. 3.checks whether it ends with a specific substring.\n",
        "IV. 4.capitalize the first letter of each word in a string\n",
        "V. 5.check if a string is anagram of another string\n",
        "VI. 6.remove vowels from string\n",
        "VII. 7.find length of the longest word in a sentence"
      ],
      "metadata": {
        "id": "xwqQY5Kt1KsY"
      }
    },
    {
      "cell_type": "code",
      "source": [
        "def reverse_string(s):\n",
        "    return s[::-1]\n",
        "\n",
        "def is_palindrome(s):\n",
        "    return s == s[::-1]\n",
        "\n",
        "def ends_with_substring(s, substring):\n",
        "    return s.endswith(substring)\n",
        "\n",
        "def capitalize_words(s):\n",
        "    return s.title()\n",
        "\n",
        "def is_anagram(s1, s2):\n",
        "    return sorted(s1) == sorted(s2)\n",
        "\n",
        "def remove_vowels(s):\n",
        "    vowels = \"aeiouAEIOU\"\n",
        "    return ''.join([char for char in s if char not in vowels])\n",
        "\n",
        "def length_of_longest_word(sentence):\n",
        "    words = sentence.split()\n",
        "    return len(max(words, key=len))\n",
        "\n",
        "# Example usage\n",
        "input_string = \"Able was I saw Elba\"\n",
        "substring = \"Elba\"\n",
        "another_string = \"Elba was I saw Able\"\n",
        "\n",
        "print(\"Original string:\", input_string)\n",
        "\n",
        "# 1. Reverse the string\n",
        "reversed_string = reverse_string(input_string)\n",
        "print(\"Reversed string:\", reversed_string)\n",
        "\n",
        "# 2. Check if it is a palindrome\n",
        "print(\"Is palindrome?\", is_palindrome(input_string))\n",
        "\n",
        "# 3. Check if it ends with a specific substring\n",
        "print(f\"Does it end with '{substring}'?\", ends_with_substring(input_string, substring))\n",
        "\n",
        "# 4. Capitalize the first letter of each word\n",
        "print(\"Capitalized:\", capitalize_words(input_string))\n",
        "\n",
        "# 5. Check if a string is an anagram of another string\n",
        "print(f\"Is '{input_string}' an anagram of '{another_string}'?\", is_anagram(input_string.replace(\" \", \"\").lower(), another_string.replace(\" \", \"\").lower()))\n",
        "\n",
        "# 6. Remove vowels from the string\n",
        "print(\"String without vowels:\", remove_vowels(input_string))\n",
        "\n",
        "# 7. Find the length of the longest word in a sentence\n",
        "sentence = \"This is an example sentence\"\n",
        "print(\"Length of the longest word:\", length_of_longest_word(sentence))\n"
      ],
      "metadata": {
        "colab": {
          "base_uri": "https://localhost:8080/"
        },
        "id": "UzvVf_D73SjS",
        "outputId": "656e8452-c2ce-490d-e459-638ab0237053"
      },
      "execution_count": null,
      "outputs": [
        {
          "output_type": "stream",
          "name": "stdout",
          "text": [
            "Original string: Able was I saw Elba\n",
            "Reversed string: ablE was I saw elbA\n",
            "Is palindrome? False\n",
            "Does it end with 'Elba'? True\n",
            "Capitalized: Able Was I Saw Elba\n",
            "Is 'Able was I saw Elba' an anagram of 'Elba was I saw Able'? True\n",
            "String without vowels: bl ws  sw lb\n",
            "Length of the longest word: 8\n"
          ]
        }
      ]
    },
    {
      "cell_type": "markdown",
      "source": [
        "Misc- Write a program to search an element in an array."
      ],
      "metadata": {
        "id": "UiL2X2Yc3cUr"
      }
    },
    {
      "cell_type": "code",
      "source": [
        "# Python program to search an element in an array\n",
        "def main():\n",
        "    # Take input for the number of elements in the array\n",
        "    n = int(input(\"Enter the number of elements in the array: \"))\n",
        "\n",
        "    # Create an empty list to hold the array elements\n",
        "    array = []\n",
        "\n",
        "    # Take input for each element of the array\n",
        "    print(\"Enter the elements of the array:\")\n",
        "    for i in range(n):\n",
        "        element = int(input())\n",
        "        array.append(element)\n",
        "\n",
        "    # Take input for the element to search for\n",
        "    search_element = int(input(\"Enter the element to search for: \"))\n",
        "\n",
        "    # Search for the element in the array\n",
        "    if search_element in array:\n",
        "        index = array.index(search_element)\n",
        "        print(f\"Element {search_element} found at index {index}\")\n",
        "    else:\n",
        "        print(f\"Element {search_element} not found in the array.\")\n",
        "\n",
        "if __name__ == \"__main__\":\n",
        "    main()\n"
      ],
      "metadata": {
        "colab": {
          "base_uri": "https://localhost:8080/"
        },
        "id": "14EOO9OC4rXy",
        "outputId": "002a884d-0517-4aa0-a0ab-1f557bcf4d71"
      },
      "execution_count": null,
      "outputs": [
        {
          "output_type": "stream",
          "name": "stdout",
          "text": [
            "Enter the number of elements in the array: 5\n",
            "Enter the elements of the array:\n",
            "1\n",
            "3\n",
            "6\n",
            "8\n",
            "9\n",
            "Enter the element to search for: 6\n",
            "Element 6 found at index 2\n"
          ]
        }
      ]
    },
    {
      "cell_type": "markdown",
      "source": [
        "Write a program to find the sum of even numbers in an integer array"
      ],
      "metadata": {
        "id": "mVBDirQt-xMp"
      }
    },
    {
      "cell_type": "code",
      "source": [
        "def sum_of_even_numbers(array):\n",
        "    # Initialize the sum to 0\n",
        "    even_sum = 0\n",
        "\n",
        "    # Iterate through the array\n",
        "    for num in array:\n",
        "        # Check if the number is even\n",
        "        if num % 2 == 0:\n",
        "            even_sum += num\n",
        "\n",
        "    return even_sum\n",
        "\n",
        "def main():\n",
        "    # Take input for the number of elements in the array\n",
        "    n = int(input(\"Enter the number of elements in the array: \"))\n",
        "\n",
        "    # Create an empty list to hold the array elements\n",
        "    array = []\n",
        "\n",
        "    # Take input for each element of the array\n",
        "    print(\"Enter the elements of the array:\")\n",
        "    for i in range(n):\n",
        "        element = int(input())\n",
        "        array.append(element)\n",
        "\n",
        "    # Calculate the sum of even numbers\n",
        "    even_sum = sum_of_even_numbers(array)\n",
        "\n",
        "    # Output the result\n",
        "    print(\"The sum of even numbers in the array is:\", even_sum)\n",
        "\n",
        "if __name__ == \"__main__\":\n",
        "    main()\n",
        "6\n"
      ],
      "metadata": {
        "colab": {
          "base_uri": "https://localhost:8080/"
        },
        "id": "UVBUqQuyAXuf",
        "outputId": "6be2668a-ee98-478b-8154-3b29f5eb5aa7"
      },
      "execution_count": null,
      "outputs": [
        {
          "output_type": "stream",
          "name": "stdout",
          "text": [
            "Enter the number of elements in the array: 5\n",
            "Enter the elements of the array:\n",
            "1\n",
            "2\n",
            "3\n",
            "4\n",
            "6\n",
            "The sum of even numbers in the array is: 12\n"
          ]
        }
      ]
    },
    {
      "cell_type": "markdown",
      "source": [
        "Write a program to find the sum of diagonal elements in a 2D array"
      ],
      "metadata": {
        "id": "Cs7Ro2x3Ej4k"
      }
    },
    {
      "cell_type": "code",
      "source": [
        "def sum_of_diagonals(matrix, n):\n",
        "    # Initialize the sum to 0\n",
        "    diagonal_sum = 0\n",
        "\n",
        "    # Sum the primary diagonal elements\n",
        "    for i in range(n):\n",
        "        diagonal_sum += matrix[i][i]\n",
        "\n",
        "    return diagonal_sum\n",
        "\n",
        "def main():\n",
        "    # Take input for the size of the matrix (assuming it's a square matrix)\n",
        "    n = int(input(\"Enter the size of the square matrix (n x n): \"))\n",
        "\n",
        "    # Create an empty 2D list to hold the matrix elements\n",
        "    matrix = []\n",
        "\n",
        "    # Take input for each row of the matrix\n",
        "    print(\"Enter the elements of the matrix row by row:\")\n",
        "    for i in range(n):\n",
        "        row = list(map(int, input().split()))\n",
        "        matrix.append(row)\n",
        "\n",
        "    # Calculate the sum of diagonal elements\n",
        "    diagonal_sum = sum_of_diagonals(matrix, n)\n",
        "\n",
        "    # Output the result\n",
        "    print(\"The sum of diagonal elements in the matrix is:\", diagonal_sum)\n",
        "\n",
        "if __name__ == \"__main__\":\n",
        "    main()\n"
      ],
      "metadata": {
        "colab": {
          "base_uri": "https://localhost:8080/"
        },
        "id": "2lO3UyhiLpYn",
        "outputId": "7a6ed192-4bfc-4be5-e60c-ab3eddf9efe2"
      },
      "execution_count": null,
      "outputs": [
        {
          "output_type": "stream",
          "name": "stdout",
          "text": [
            "Enter the size of the square matrix (n x n): 3\n",
            "Enter the elements of the matrix row by row:\n",
            "1 2 3\n",
            "4 5 6\n",
            "7 8 9\n",
            "The sum of diagonal elements in the matrix is: 15\n"
          ]
        }
      ]
    },
    {
      "cell_type": "markdown",
      "source": [
        "Reverse the elements in an array of integers without using a second array"
      ],
      "metadata": {
        "id": "hDidqRSAL-Dk"
      }
    },
    {
      "cell_type": "code",
      "source": [
        "def reverse_array(arr):\n",
        "    left, right = 0, len(arr) - 1\n",
        "    while left < right:\n",
        "        arr[left], arr[right] = arr[right], arr[left]\n",
        "        left += 1\n",
        "        right -= 1\n",
        "\n",
        "def main():\n",
        "    arr = list(map(int, input(\"Enter integers for the array separated by spaces: \").split()))\n",
        "    reverse_array(arr)\n",
        "    print(f\"Reversed array: {' '.join(map(str, arr))}\")\n",
        "\n",
        "if __name__ == \"__main__\":\n",
        "    main()"
      ],
      "metadata": {
        "colab": {
          "base_uri": "https://localhost:8080/"
        },
        "id": "V6jlTQNNMGqD",
        "outputId": "7dff1b5e-177b-43de-f625-81eb894a91bb"
      },
      "execution_count": null,
      "outputs": [
        {
          "output_type": "stream",
          "name": "stdout",
          "text": [
            "Enter integers for the array separated by spaces: 2 4 6 8 3\n",
            "Reversed array: 3 8 6 4 2\n"
          ]
        }
      ]
    },
    {
      "cell_type": "markdown",
      "source": [
        "Write a program to enter n elements in an array and find smallest number among them."
      ],
      "metadata": {
        "id": "-KfrdryfMxGf"
      }
    },
    {
      "cell_type": "code",
      "source": [
        "def find_smallest_number(arr):\n",
        "    if not arr:\n",
        "        return None\n",
        "    smallest = arr[0]\n",
        "    for num in arr:\n",
        "        if num < smallest:\n",
        "            smallest = num\n",
        "    return smallest\n",
        "\n",
        "arr = list(map(int, input(\"Enter integers for the array separated by spaces: \").split()))\n",
        "smallest_number = find_smallest_number(arr)\n",
        "if smallest_number is not None:\n",
        "    print(f\"Smallest number in the array: {smallest_number}\")"
      ],
      "metadata": {
        "colab": {
          "base_uri": "https://localhost:8080/"
        },
        "id": "-eMae1RKM4gS",
        "outputId": "3a6da19b-7705-4e16-c0ba-ff3dd1066989"
      },
      "execution_count": null,
      "outputs": [
        {
          "output_type": "stream",
          "name": "stdout",
          "text": [
            "Enter integers for the array separated by spaces: 12 23 45 56 85\n",
            "Smallest number in the array: 12\n"
          ]
        }
      ]
    },
    {
      "cell_type": "markdown",
      "source": [
        "Write a program to print transpose of matrix."
      ],
      "metadata": {
        "id": "xwmMCqBuNbGf"
      }
    },
    {
      "cell_type": "code",
      "source": [
        "def transpose_matrix(matrix):\n",
        "    return list(zip(*matrix))\n",
        "\n",
        "def main():\n",
        "    n = int(input(\"Enter the number of rows for the matrix: \"))\n",
        "    m = int(input(\"Enter the number of columns for the matrix: \"))\n",
        "    matrix = []\n",
        "    print(\"Enter the matrix row by row:\")\n",
        "    for _ in range(n):\n",
        "        row = list(map(int, input().split()))\n",
        "        matrix.append(row)\n",
        "    transposed = transpose_matrix(matrix)\n",
        "    print(\"Transpose of the matrix:\")\n",
        "    for row in transposed:\n",
        "        print('\\t'.join(map(str, row)))\n",
        "\n",
        "if __name__ == \"__main__\":\n",
        "    main()"
      ],
      "metadata": {
        "colab": {
          "base_uri": "https://localhost:8080/"
        },
        "id": "hTNNpwb2NeAc",
        "outputId": "37aacf8d-a8cd-445c-d370-45574ebd6e47"
      },
      "execution_count": null,
      "outputs": [
        {
          "output_type": "stream",
          "name": "stdout",
          "text": [
            "Enter the number of rows for the matrix: 3\n",
            "Enter the number of columns for the matrix: 3\n",
            "Enter the matrix row by row:\n",
            "1 2 4\n",
            "4 2 3\n",
            "7 5 6\n",
            "Transpose of the matrix:\n",
            "1\t4\t7\n",
            "2\t2\t5\n",
            "4\t3\t6\n"
          ]
        }
      ]
    }
  ]
}
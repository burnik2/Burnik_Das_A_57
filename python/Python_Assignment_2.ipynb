{
 "cells": [
  {
   "cell_type": "code",
   "execution_count": 2,
   "id": "331edd7b",
   "metadata": {},
   "outputs": [
    {
     "name": "stdout",
     "output_type": "stream",
     "text": [
      "9.0\n"
     ]
    }
   ],
   "source": [
    "# 1.Sum of square root of any three numbers:\n",
    "import math\n",
    "\n",
    "def sum_of_square_roots(a, b, c):\n",
    "    return math.sqrt(a) + math.sqrt(b) + math.sqrt(c)\n",
    "\n",
    "\n",
    "print(sum_of_square_roots(4, 9, 16))\n"
   ]
  },
  {
   "cell_type": "code",
   "execution_count": 3,
   "id": "c4691dc4",
   "metadata": {},
   "outputs": [
    {
     "name": "stdout",
     "output_type": "stream",
     "text": [
      "(2.0, 1.0)\n"
     ]
    }
   ],
   "source": [
    "# 2.Solve the quadratic equation:\n",
    "import math\n",
    "\n",
    "def solve_quadratic(a, b, c):\n",
    "    discriminant = b**2 - 4*a*c\n",
    "    if discriminant < 0:\n",
    "        return \"No real roots\"\n",
    "    elif discriminant == 0:\n",
    "        root = -b / (2*a)\n",
    "        return root\n",
    "    else:\n",
    "        root1 = (-b + math.sqrt(discriminant)) / (2*a)\n",
    "        root2 = (-b - math.sqrt(discriminant)) / (2*a)\n",
    "        return root1, root2\n",
    "\n",
    "\n",
    "print(solve_quadratic(1, -3, 2))\n"
   ]
  },
  {
   "cell_type": "code",
   "execution_count": 4,
   "id": "60f5900f",
   "metadata": {},
   "outputs": [
    {
     "name": "stdout",
     "output_type": "stream",
     "text": [
      "6\n"
     ]
    }
   ],
   "source": [
    "# 3.Find GCD of two numbers:\n",
    "import math\n",
    "\n",
    "def find_gcd(a, b):\n",
    "    return math.gcd(a, b)\n",
    "\n",
    "\n",
    "print(find_gcd(48, 18))\n"
   ]
  },
  {
   "cell_type": "code",
   "execution_count": 5,
   "id": "63241a5a",
   "metadata": {},
   "outputs": [
    {
     "name": "stdout",
     "output_type": "stream",
     "text": [
      "5 to the power of 8: 390625\n",
      "Square root of 400: 20.0\n",
      "Exponent of 5: 148.4131591025766\n",
      "Logarithm of 625 base 5: 4.0\n"
     ]
    }
   ],
   "source": [
    "# 4.Compute various mathematical operations:\n",
    "import math\n",
    "\n",
    "a = 5**8\n",
    "b = math.sqrt(400)\n",
    "c = math.exp(5)\n",
    "d = math.log(625, 5)\n",
    "\n",
    "print(f\"5 to the power of 8: {a}\")\n",
    "print(f\"Square root of 400: {b}\")\n",
    "print(f\"Exponent of 5: {c}\")\n",
    "print(f\"Logarithm of 625 base 5: {d}\")\n"
   ]
  },
  {
   "cell_type": "code",
   "execution_count": 6,
   "id": "28268f12",
   "metadata": {},
   "outputs": [
    {
     "name": "stdout",
     "output_type": "stream",
     "text": [
      "Sin of 60 degrees: 0.8660254037844386\n",
      "Cos of pi: -1.0\n",
      "Sin of 0.8660254037844386: 0.7617599814162892\n",
      "Tan of 90 degrees: undefined\n"
     ]
    }
   ],
   "source": [
    "# 5.Compute trigonometric functions:\n",
    "import math\n",
    "\n",
    "a = math.sin(math.radians(60))\n",
    "b = math.cos(math.pi)\n",
    "c = math.sin(0.8660254037844386)\n",
    "d = \"undefined\"  # tan(90 degrees) is undefined\n",
    "\n",
    "print(f\"Sin of 60 degrees: {a}\")\n",
    "print(f\"Cos of pi: {b}\")\n",
    "print(f\"Sin of 0.8660254037844386: {c}\")\n",
    "print(f\"Tan of 90 degrees: {d}\")\n"
   ]
  },
  {
   "cell_type": "code",
   "execution_count": 7,
   "id": "111de053",
   "metadata": {},
   "outputs": [
    {
     "name": "stdout",
     "output_type": "stream",
     "text": [
      "30\n"
     ]
    }
   ],
   "source": [
    "# 6.Define a sum function and call it:\n",
    "def sum_function(a, b):\n",
    "    return a + b\n",
    "\n",
    "\n",
    "print(sum_function(10, 20))\n"
   ]
  },
  {
   "cell_type": "code",
   "execution_count": 8,
   "id": "5be2fe60",
   "metadata": {},
   "outputs": [
    {
     "name": "stdout",
     "output_type": "stream",
     "text": [
      "olleH\n"
     ]
    }
   ],
   "source": [
    "# 7.Reverse a given string:\n",
    "def reverse_string(s):\n",
    "    return s[::-1]\n",
    "\n",
    "\n",
    "print(reverse_string(\"Hello\"))\n"
   ]
  },
  {
   "cell_type": "code",
   "execution_count": 9,
   "id": "860873a9",
   "metadata": {},
   "outputs": [
    {
     "name": "stdout",
     "output_type": "stream",
     "text": [
      "8\n"
     ]
    }
   ],
   "source": [
    "# 8.Calculate the power of a number using recursion:\n",
    "def power(base, exponent):\n",
    "    if exponent == 0:\n",
    "        return 1\n",
    "    else:\n",
    "        return base * power(base, exponent - 1)\n",
    "\n",
    "\n",
    "print(power(2, 3))\n"
   ]
  },
  {
   "cell_type": "code",
   "execution_count": 10,
   "id": "bda09bdd",
   "metadata": {},
   "outputs": [
    {
     "name": "stdout",
     "output_type": "stream",
     "text": [
      "1010\n"
     ]
    }
   ],
   "source": [
    "# 9.Convert Decimal number to Binary:\n",
    "def decimal_to_binary(n):\n",
    "    return bin(n).replace(\"0b\", \"\")\n",
    "\n",
    "\n",
    "print(decimal_to_binary(10))\n"
   ]
  },
  {
   "cell_type": "code",
   "execution_count": 11,
   "id": "14081155",
   "metadata": {},
   "outputs": [
    {
     "name": "stdout",
     "output_type": "stream",
     "text": [
      "True\n"
     ]
    }
   ],
   "source": [
    "# 10.Check if a number is a Krishnamurthy number:\n",
    "import math\n",
    "\n",
    "def is_krishnamurthy(n):\n",
    "    def factorial_digit_sum(num):\n",
    "        return sum(math.factorial(int(digit)) for digit in str(num))\n",
    "    \n",
    "    return n == factorial_digit_sum(n)\n",
    "\n",
    "\n",
    "print(is_krishnamurthy(145))\n"
   ]
  },
  {
   "cell_type": "code",
   "execution_count": 12,
   "id": "8954eb8f",
   "metadata": {},
   "outputs": [
    {
     "name": "stdout",
     "output_type": "stream",
     "text": [
      "10\n"
     ]
    }
   ],
   "source": [
    "# 11.Find the sum of digits of a number:\n",
    "def sum_of_digits(n):\n",
    "    return sum(int(digit) for digit in str(n))\n",
    "\n",
    "\n",
    "print(sum_of_digits(1234))\n"
   ]
  },
  {
   "cell_type": "code",
   "execution_count": 13,
   "id": "aeac18d3",
   "metadata": {},
   "outputs": [
    {
     "name": "stdout",
     "output_type": "stream",
     "text": [
      "5 x 1 = 5\n",
      "5 x 2 = 10\n",
      "5 x 3 = 15\n",
      "5 x 4 = 20\n",
      "5 x 5 = 25\n",
      "5 x 6 = 30\n",
      "5 x 7 = 35\n",
      "5 x 8 = 40\n",
      "5 x 9 = 45\n",
      "5 x 10 = 50\n"
     ]
    }
   ],
   "source": [
    "# 12.Print multiplication table of a number:\n",
    "def multiplication_table(n):\n",
    "    for i in range(1, 11):\n",
    "        print(f\"{n} x {i} = {n * i}\")\n",
    "\n",
    "\n",
    "multiplication_table(5)\n"
   ]
  },
  {
   "cell_type": "code",
   "execution_count": 14,
   "id": "72d10fec",
   "metadata": {},
   "outputs": [
    {
     "name": "stdout",
     "output_type": "stream",
     "text": [
      "[2, 6, 18, 54, 162, 486]\n"
     ]
    }
   ],
   "source": [
    "# 13.Print first 6 terms of a geometric sequence:\n",
    "def geometric_sequence(a, r, n):\n",
    "    terms = [a * r**i for i in range(n)]\n",
    "    return terms\n",
    "\n",
    "\n",
    "print(geometric_sequence(2, 3, 6))\n"
   ]
  },
  {
   "cell_type": "code",
   "execution_count": 15,
   "id": "519f9b5a",
   "metadata": {},
   "outputs": [
    {
     "name": "stdout",
     "output_type": "stream",
     "text": [
      "[1, 1, 2, 6, 24, 120]\n"
     ]
    }
   ],
   "source": [
    "# 14.Print the series upto N terms:\n",
    "def series_upto_n_terms(n):\n",
    "    def factorial(num):\n",
    "        if num == 0:\n",
    "            return 1\n",
    "        else:\n",
    "            return num * factorial(num - 1)\n",
    "    \n",
    "    return [factorial(i) for i in range(n)]\n",
    "\n",
    "\n",
    "print(series_upto_n_terms(6))\n"
   ]
  },
  {
   "cell_type": "code",
   "execution_count": 16,
   "id": "48feee41",
   "metadata": {},
   "outputs": [
    {
     "name": "stdout",
     "output_type": "stream",
     "text": [
      "Enter base number: 10\n",
      "Enter exponent: 2\n",
      "10 to the power of 2 is 100\n"
     ]
    }
   ],
   "source": [
    "# 15.Calculate the power of a number without using ** or math.pow():\n",
    "def power(base, exponent):\n",
    "    result = 1\n",
    "    for _ in range(exponent):\n",
    "        result *= base\n",
    "    return result\n",
    "\n",
    "\n",
    "base = int(input(\"Enter base number: \"))\n",
    "exponent = int(input(\"Enter exponent: \"))\n",
    "print(f\"{base} to the power of {exponent} is {power(base, exponent)}\")\n",
    "\n"
   ]
  },
  {
   "cell_type": "code",
   "execution_count": 17,
   "id": "44f3442e",
   "metadata": {},
   "outputs": [],
   "source": [
    "#Miscellaneous"
   ]
  },
  {
   "cell_type": "code",
   "execution_count": 18,
   "id": "477e0622",
   "metadata": {},
   "outputs": [
    {
     "name": "stdout",
     "output_type": "stream",
     "text": [
      "Binary 1101 to decimal is 13\n",
      "Decimal 13 to binary is 1101\n"
     ]
    }
   ],
   "source": [
    "#  1.Program to Convert a Binary Number to Decimal and Decimal to Binary\n",
    "def binary_to_decimal(binary):\n",
    "    return int(binary, 2)\n",
    "\n",
    "def decimal_to_binary(decimal):\n",
    "    return bin(decimal).replace(\"0b\", \"\")\n",
    "\n",
    "\n",
    "binary = \"1101\"\n",
    "decimal = 13\n",
    "print(f\"Binary {binary} to decimal is {binary_to_decimal(binary)}\")\n",
    "print(f\"Decimal {decimal} to binary is {decimal_to_binary(decimal)}\")\n"
   ]
  },
  {
   "cell_type": "code",
   "execution_count": 1,
   "id": "bd3238de",
   "metadata": {},
   "outputs": [
    {
     "name": "stdout",
     "output_type": "stream",
     "text": [
      "Median of [1, 3, 3, 6, 7, 8, 9] is 6\n"
     ]
    }
   ],
   "source": [
    "# 2.Program to Find Median of a Set of Numbers\n",
    "def find_median(numbers):\n",
    "    sorted_numbers = sorted(numbers)\n",
    "    n = len(sorted_numbers)\n",
    "    mid = n // 2\n",
    "    if n % 2 == 0:\n",
    "        return (sorted_numbers[mid - 1] + sorted_numbers[mid]) / 2\n",
    "    else:\n",
    "        return sorted_numbers[mid]\n",
    "\n",
    "\n",
    "numbers = [1, 3, 3, 6, 7, 8, 9]\n",
    "print(f\"Median of {numbers} is {find_median(numbers)}\")\n"
   ]
  },
  {
   "cell_type": "code",
   "execution_count": 2,
   "id": "73d7a26a",
   "metadata": {},
   "outputs": [
    {
     "name": "stdout",
     "output_type": "stream",
     "text": [
      "Value of Euler's number with 10 terms is 2.7182818011463845\n"
     ]
    }
   ],
   "source": [
    "# 3.Program to Compute the Value of Euler’s Number\n",
    "def compute_euler(n):\n",
    "    euler = 1\n",
    "    factorial = 1\n",
    "    for i in range(1, n + 1):\n",
    "        factorial *= i\n",
    "        euler += 1 / factorial\n",
    "    return euler\n",
    "\n",
    "\n",
    "n = 10\n",
    "print(f\"Value of Euler's number with {n} terms is {compute_euler(n)}\")\n"
   ]
  },
  {
   "cell_type": "code",
   "execution_count": 3,
   "id": "87fa8c9f",
   "metadata": {},
   "outputs": [
    {
     "name": "stdout",
     "output_type": "stream",
     "text": [
      "1 1 1\n",
      "1 1 2\n",
      "1 1 3\n",
      "1 2 1\n",
      "1 2 2\n",
      "1 2 3\n",
      "1 3 1\n",
      "1 3 2\n",
      "1 3 3\n",
      "2 1 1\n",
      "2 1 2\n",
      "2 1 3\n",
      "2 2 1\n",
      "2 2 2\n",
      "2 2 3\n",
      "2 3 1\n",
      "2 3 2\n",
      "2 3 3\n",
      "3 1 1\n",
      "3 1 2\n",
      "3 1 3\n",
      "3 2 1\n",
      "3 2 2\n",
      "3 2 3\n",
      "3 3 1\n",
      "3 3 2\n",
      "3 3 3\n"
     ]
    }
   ],
   "source": [
    "# 4. Program to Generate All Combinations of 1, 2, or 3 Using Loop\n",
    "def generate_combinations():\n",
    "    for i in range(1, 4):\n",
    "        for j in range(1, 4):\n",
    "            for k in range(1, 4):\n",
    "                print(i, j, k)\n",
    "\n",
    "\n",
    "generate_combinations()\n"
   ]
  },
  {
   "cell_type": "code",
   "execution_count": 4,
   "id": "30652ba2",
   "metadata": {},
   "outputs": [
    {
     "name": "stdout",
     "output_type": "stream",
     "text": [
      "20 is a multiple of 5.\n"
     ]
    }
   ],
   "source": [
    "#5.Program to Decide and Print Whether m is Multiple of n\n",
    "def is_multiple(m, n):\n",
    "    return m % n == 0\n",
    "\n",
    "\n",
    "m = 20\n",
    "n = 5\n",
    "if is_multiple(m, n):\n",
    "    print(f\"{m} is a multiple of {n}.\")\n",
    "else:\n",
    "    print(f\"{m} is not a multiple of {n}.\")\n"
   ]
  },
  {
   "cell_type": "code",
   "execution_count": 5,
   "id": "edbfc670",
   "metadata": {},
   "outputs": [
    {
     "ename": "NameError",
     "evalue": "name 'is_prime' is not defined",
     "output_type": "error",
     "traceback": [
      "\u001b[1;31m---------------------------------------------------------------------------\u001b[0m",
      "\u001b[1;31mNameError\u001b[0m                                 Traceback (most recent call last)",
      "Cell \u001b[1;32mIn[5], line 12\u001b[0m\n\u001b[0;32m     10\u001b[0m start \u001b[38;5;241m=\u001b[39m \u001b[38;5;241m10\u001b[39m\n\u001b[0;32m     11\u001b[0m end \u001b[38;5;241m=\u001b[39m \u001b[38;5;241m50\u001b[39m\n\u001b[1;32m---> 12\u001b[0m \u001b[38;5;28mprint\u001b[39m(\u001b[38;5;124mf\u001b[39m\u001b[38;5;124m\"\u001b[39m\u001b[38;5;124mPrime numbers between \u001b[39m\u001b[38;5;132;01m{\u001b[39;00mstart\u001b[38;5;132;01m}\u001b[39;00m\u001b[38;5;124m and \u001b[39m\u001b[38;5;132;01m{\u001b[39;00mend\u001b[38;5;132;01m}\u001b[39;00m\u001b[38;5;124m are: \u001b[39m\u001b[38;5;132;01m{\u001b[39;00mprimes_in_interval(start,\u001b[38;5;250m \u001b[39mend)\u001b[38;5;132;01m}\u001b[39;00m\u001b[38;5;124m\"\u001b[39m)\n",
      "Cell \u001b[1;32mIn[5], line 5\u001b[0m, in \u001b[0;36mprimes_in_interval\u001b[1;34m(start, end)\u001b[0m\n\u001b[0;32m      3\u001b[0m primes \u001b[38;5;241m=\u001b[39m []\n\u001b[0;32m      4\u001b[0m \u001b[38;5;28;01mfor\u001b[39;00m num \u001b[38;5;129;01min\u001b[39;00m \u001b[38;5;28mrange\u001b[39m(start, end \u001b[38;5;241m+\u001b[39m \u001b[38;5;241m1\u001b[39m):\n\u001b[1;32m----> 5\u001b[0m     \u001b[38;5;28;01mif\u001b[39;00m is_prime(num):\n\u001b[0;32m      6\u001b[0m         primes\u001b[38;5;241m.\u001b[39mappend(num)\n\u001b[0;32m      7\u001b[0m \u001b[38;5;28;01mreturn\u001b[39;00m primes\n",
      "\u001b[1;31mNameError\u001b[0m: name 'is_prime' is not defined"
     ]
    }
   ],
   "source": [
    "#6.Program to Display Prime Numbers Between a Given Interval\n",
    "\n",
    "def is_prime(num):\n",
    "    for i in range(2,num):\n",
    "        if(num%i==0):\n",
    "            return False      \n",
    "    return True\n",
    "\n",
    "def primes_in_interval(start, end):\n",
    "    primes = []\n",
    "    for num in range(start, end + 1):\n",
    "        if is_prime(num):\n",
    "            primes.append(num)\n",
    "    return primes\n",
    "\n",
    "\n",
    "start = 10\n",
    "end = 50\n",
    "print(f\"Prime numbers between {start} and {end} are: {primes_in_interval(start, end)}\")\n"
   ]
  },
  {
   "cell_type": "code",
   "execution_count": 6,
   "id": "4b26566c",
   "metadata": {},
   "outputs": [
    {
     "name": "stdout",
     "output_type": "stream",
     "text": [
      "153 is an Armstrong number.\n"
     ]
    }
   ],
   "source": [
    "#7.Program to Check Whether a Given Number is Armstrong Number or Not\n",
    "def is_armstrong(num):\n",
    "    order = len(str(num))\n",
    "    sum_of_powers = sum(int(digit) ** order for digit in str(num))\n",
    "    return sum_of_powers == num\n",
    "\n",
    "\n",
    "num = 153\n",
    "if is_armstrong(num):\n",
    "    print(f\"{num} is an Armstrong number.\")\n",
    "else:\n",
    "    print(f\"{num} is not an Armstrong number.\")\n"
   ]
  },
  {
   "cell_type": "code",
   "execution_count": 7,
   "id": "d991c2e3",
   "metadata": {},
   "outputs": [
    {
     "name": "stdout",
     "output_type": "stream",
     "text": [
      "1 \n",
      "2 3 \n",
      "4 5 6 \n"
     ]
    }
   ],
   "source": [
    "#8.Pattern 1\n",
    "def pattern_1(n):\n",
    "    num = 1\n",
    "    for i in range(1, n + 1):\n",
    "        for j in range(i):\n",
    "            print(num, end=\" \")\n",
    "            num += 1\n",
    "        print()\n",
    "\n",
    "\n",
    "pattern_1(3)\n"
   ]
  },
  {
   "cell_type": "code",
   "execution_count": 8,
   "id": "aba0005d",
   "metadata": {},
   "outputs": [
    {
     "name": "stdout",
     "output_type": "stream",
     "text": [
      "1 \n",
      "2 1 2 \n",
      "3 2 1 2 3 \n",
      "4 3 2 1 2 3 4 \n"
     ]
    }
   ],
   "source": [
    "#9.Pattern 2\n",
    "def pattern_2(n):\n",
    "    for i in range(1, n + 1):\n",
    "        for j in range(i, 0, -1):\n",
    "            print(j, end=\" \")\n",
    "        for j in range(2, i + 1):\n",
    "            print(j, end=\" \")\n",
    "        print()\n",
    "\n",
    "\n",
    "pattern_2(4)\n"
   ]
  },
  {
   "cell_type": "code",
   "execution_count": 9,
   "id": "551bc4a6",
   "metadata": {},
   "outputs": [
    {
     "name": "stdout",
     "output_type": "stream",
     "text": [
      "1 \n",
      "2 2 \n",
      "3 3 3 \n",
      "4 4 4 4 \n"
     ]
    }
   ],
   "source": [
    "#10.Pattern 3\n",
    "def pattern_3(n):\n",
    "    for i in range(1, n + 1):\n",
    "        print(f\"{i} \" * i)\n",
    "\n",
    "\n",
    "pattern_3(4)\n"
   ]
  },
  {
   "cell_type": "code",
   "execution_count": null,
   "id": "6048191f",
   "metadata": {},
   "outputs": [],
   "source": []
  }
 ],
 "metadata": {
  "kernelspec": {
   "display_name": "Python 3 (ipykernel)",
   "language": "python",
   "name": "python3"
  },
  "language_info": {
   "codemirror_mode": {
    "name": "ipython",
    "version": 3
   },
   "file_extension": ".py",
   "mimetype": "text/x-python",
   "name": "python",
   "nbconvert_exporter": "python",
   "pygments_lexer": "ipython3",
   "version": "3.11.7"
  }
 },
 "nbformat": 4,
 "nbformat_minor": 5
}

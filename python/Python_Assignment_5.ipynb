{
  "nbformat": 4,
  "nbformat_minor": 0,
  "metadata": {
    "colab": {
      "provenance": []
    },
    "kernelspec": {
      "name": "python3",
      "display_name": "Python 3"
    },
    "language_info": {
      "name": "python"
    }
  },
  "cells": [
    {
      "cell_type": "markdown",
      "source": [
        "1.The following is a list of 10 students ages:\n",
        "ages = [19, 22, 19, 24, 20, 25, 26, 24, 25, 24]\n",
        "I. Sort the list and find the min and max age\n",
        "II. Add the min age and the max age again to the list\n",
        "III. Find the median age (one middle item or two middle items divided by two)\n",
        "IV. Find the average age (sum of all items divided by their number )\n",
        "V. Find the range of the ages (max minus min)\n",
        "VI. Compare the value of (min - average) and (max - average), use _abs()_ method"
      ],
      "metadata": {
        "id": "GkVPtUz4TJvZ"
      }
    },
    {
      "cell_type": "code",
      "execution_count": 1,
      "metadata": {
        "colab": {
          "base_uri": "https://localhost:8080/"
        },
        "id": "w_rBKMQtTC7u",
        "outputId": "a08baba2-d31e-45b2-fba9-e01c22ad650f"
      },
      "outputs": [
        {
          "output_type": "stream",
          "name": "stdout",
          "text": [
            "Sorted ages: [19, 19, 20, 22, 24, 24, 24, 25, 25, 26]\n",
            "Min age: 19\n",
            "Max age: 26\n",
            "Ages after adding min and max again: [19, 19, 20, 22, 24, 24, 24, 25, 25, 26, 19, 26]\n",
            "Median age: 24.0\n",
            "Average age: 22.75\n",
            "Range of ages: 7\n",
            "Absolute difference between min age and average: 3.75\n",
            "Absolute difference between max age and average: 3.25\n"
          ]
        }
      ],
      "source": [
        "ages = [19, 22, 19, 24, 20, 25, 26, 24, 25, 24]\n",
        "\n",
        "# I. Sort the list and find the min and max age\n",
        "ages.sort()\n",
        "min_age = ages[0]\n",
        "max_age = ages[-1]\n",
        "print(\"Sorted ages:\", ages)\n",
        "print(\"Min age:\", min_age)\n",
        "print(\"Max age:\", max_age)\n",
        "\n",
        "# II. Add the min age and the max age again to the list\n",
        "ages.append(min_age)\n",
        "ages.append(max_age)\n",
        "print(\"Ages after adding min and max again:\", ages)\n",
        "\n",
        "# III. Find the median age\n",
        "ages.sort()\n",
        "n = len(ages)\n",
        "if n % 2 == 0:\n",
        "    median_age = (ages[n//2 - 1] + ages[n//2]) / 2\n",
        "else:\n",
        "    median_age = ages[n//2]\n",
        "print(\"Median age:\", median_age)\n",
        "\n",
        "# IV. Find the average age\n",
        "average_age = sum(ages) / len(ages)\n",
        "print(\"Average age:\", average_age)\n",
        "\n",
        "# V. Find the range of the ages\n",
        "age_range = max_age - min_age\n",
        "print(\"Range of ages:\", age_range)\n",
        "\n",
        "# VI. Compare the value of (min - average) and (max - average), use abs() method\n",
        "min_average_diff = abs(min_age - average_age)\n",
        "max_average_diff = abs(max_age - average_age)\n",
        "print(\"Absolute difference between min age and average:\", min_average_diff)\n",
        "print(\"Absolute difference between max age and average:\", max_average_diff)\n"
      ]
    },
    {
      "cell_type": "markdown",
      "source": [
        "2.Iterate through the list, [&#39;Python&#39;, &#39;Numpy&#39;,&#39;Pandas&#39;,&#39;Django&#39;, &#39;Flask&#39;] using a for loop and print out\n",
        "the items."
      ],
      "metadata": {
        "id": "4yZ8iDOmU7r6"
      }
    },
    {
      "cell_type": "code",
      "source": [
        "technologies = ['Python', 'Numpy', 'Pandas', 'Django', 'Flask']\n",
        "\n",
        "for tech in technologies:\n",
        "    print(tech, end=\",\")"
      ],
      "metadata": {
        "colab": {
          "base_uri": "https://localhost:8080/"
        },
        "id": "FBq3NiR6VBZ8",
        "outputId": "6ed2190d-9cb6-44d2-ce81-0d9d0fc1b30e"
      },
      "execution_count": 2,
      "outputs": [
        {
          "output_type": "stream",
          "name": "stdout",
          "text": [
            "Python,Numpy,Pandas,Django,Flask,"
          ]
        }
      ]
    },
    {
      "cell_type": "markdown",
      "source": [
        "3.Create fruits, vegetables and animal products tuples.\n",
        "I. Join the three tuples and assign it to a variable called food_stuff_tp.\n",
        "II. Change the about food_stuff_tp tuple to a food_stuff_lt list\n",
        "III. Slice out the middle item or items from the food_stuff_tp tuple or food_stuff_lt list.\n",
        "IV. Slice out the first three items and the last three items from food_staff_lt list\n",
        "V. Delete the food_staff_tp tuple completely\n",
        "3. Create a set given below\n",
        "it_companies = {&#39;Facebook&#39;, &#39;Google&#39;, &#39;Microsoft&#39;, &#39;Apple&#39;, &#39;IBM&#39;, &#39;Oracle&#39;, &#39;Amazon&#39;}\n",
        "A = {19, 22, 24, 20, 25, 26}\n",
        "B = {19, 22, 20, 25, 26, 24, 28, 27}\n",
        "age = [22, 19, 24, 25, 26, 24, 25, 24]\n",
        "I. Find the length of the set it_companies\n",
        "II. Add &#39;Twitter&#39; to it_companies\n",
        "III. Insert multiple IT companies at once to the set it_companies\n",
        "IV. Remove one of the companies from the set it_companies\n",
        "V. What is the difference between remove and discard"
      ],
      "metadata": {
        "id": "EjQ-4tayVLRQ"
      }
    },
    {
      "cell_type": "code",
      "source": [
        "# I. Create fruits, vegetables, and animal products tuples\n",
        "fruits = ('guava', 'kiwi', 'avocado')\n",
        "vegetables = ('cucumbre', 'potato', 'tomato')\n",
        "animal_products = ('butter', 'chicken', 'milk')\n",
        "\n",
        "# II. Join the three tuples and assign it to a variable called food_stuff_tp\n",
        "food_stuff_tp = fruits + vegetables + animal_products\n",
        "print(\"Food stuff tuple:\", food_stuff_tp)\n",
        "\n",
        "# III. Change the food_stuff_tp tuple to a food_stuff_lt list\n",
        "food_stuff_lt = list(food_stuff_tp)\n",
        "print(\"Food stuff list:\", food_stuff_lt)\n",
        "\n",
        "# IV. Slice out the middle item or items from the food_stuff_lt list\n",
        "n = len(food_stuff_lt)\n",
        "if n % 2 == 0:\n",
        "    middle_items = food_stuff_lt[n//2 - 1 : n//2 + 1]\n",
        "else:\n",
        "    middle_items = [food_stuff_lt[n//2]]\n",
        "print(\"Middle item(s):\", middle_items)\n",
        "\n",
        "# V. Slice out the first three items and the last three items from food_stuff_lt list\n",
        "first_three_items = food_stuff_lt[:3]\n",
        "last_three_items = food_stuff_lt[-3:]\n",
        "print(\"First three items:\", first_three_items)\n",
        "print(\"Last three items:\", last_three_items)\n",
        "\n",
        "# VI. Delete the food_stuff_tp tuple completely\n",
        "del food_stuff_tp"
      ],
      "metadata": {
        "colab": {
          "base_uri": "https://localhost:8080/"
        },
        "id": "LwMco8NrVTQm",
        "outputId": "ace5aac7-4f93-4d13-d840-85e7a1d27aea"
      },
      "execution_count": 3,
      "outputs": [
        {
          "output_type": "stream",
          "name": "stdout",
          "text": [
            "Food stuff tuple: ('guava', 'kiwi', 'avocado', 'cucumbre', 'potato', 'tomato', 'butter', 'chicken', 'milk')\n",
            "Food stuff list: ['guava', 'kiwi', 'avocado', 'cucumbre', 'potato', 'tomato', 'butter', 'chicken', 'milk']\n",
            "Middle item(s): ['potato']\n",
            "First three items: ['guava', 'kiwi', 'avocado']\n",
            "Last three items: ['butter', 'chicken', 'milk']\n"
          ]
        }
      ]
    },
    {
      "cell_type": "markdown",
      "source": [
        "4. From the above sets A and B\n",
        "I. Join A and B\n",
        "II. Find A intersection B\n",
        "III. Is A subset of B\n",
        "IV. Are A and B disjoint sets\n",
        "V. Join A with B and B with A\n",
        "VI. What is the symmetric difference between A and B\n",
        "VII. Delete the sets completely"
      ],
      "metadata": {
        "id": "TfUxvpacVjch"
      }
    },
    {
      "cell_type": "code",
      "source": [
        "A = {19, 22, 24, 20, 25, 26}\n",
        "B = {19, 22, 20, 25, 26, 24, 28, 27}\n",
        "\n",
        "# I. Join A and B\n",
        "A_union_B = A.union(B)\n",
        "print(\"A union B:\", A_union_B)\n",
        "\n",
        "# II. Find A intersection B\n",
        "A_intersection_B = A.intersection(B)\n",
        "print(\"A intersection B:\", A_intersection_B)\n",
        "\n",
        "# III. Is A subset of B\n",
        "is_A_subset_of_B = A.issubset(B)\n",
        "print(\"Is A a subset of B:\", is_A_subset_of_B)\n",
        "\n",
        "# IV. Are A and B disjoint sets\n",
        "are_A_and_B_disjoint = A.isdisjoint(B)\n",
        "print(\"Are A and B disjoint sets:\", are_A_and_B_disjoint)\n",
        "\n",
        "# V. Join A with B and B with A\n",
        "A_union_B = A.union(B)\n",
        "B_union_A = B.union(A)\n",
        "print(\"A union B:\", A_union_B)\n",
        "print(\"B union A:\", B_union_A)\n",
        "\n",
        "# VI. What is the symmetric difference between A and B\n",
        "symmetric_diff = A.symmetric_difference(B)\n",
        "print(\"Symmetric difference between A and B:\", symmetric_diff)\n",
        "\n",
        "# VII. Delete the sets completely\n",
        "del A\n",
        "del B\n",
        "print(\"Sets A and B are deleted.\")"
      ],
      "metadata": {
        "colab": {
          "base_uri": "https://localhost:8080/"
        },
        "id": "iOsKTawAVwMY",
        "outputId": "38ef2c5e-455e-4d0a-9229-0c7d4e44f838"
      },
      "execution_count": 4,
      "outputs": [
        {
          "output_type": "stream",
          "name": "stdout",
          "text": [
            "A union B: {19, 20, 22, 24, 25, 26, 27, 28}\n",
            "A intersection B: {19, 20, 22, 24, 25, 26}\n",
            "Is A a subset of B: True\n",
            "Are A and B disjoint sets: False\n",
            "A union B: {19, 20, 22, 24, 25, 26, 27, 28}\n",
            "B union A: {19, 20, 22, 24, 25, 26, 27, 28}\n",
            "Symmetric difference between A and B: {27, 28}\n",
            "Sets A and B are deleted.\n"
          ]
        }
      ]
    },
    {
      "cell_type": "markdown",
      "source": [
        "5. Create an empty dictionary called dog.Add name, color, breed, legs, age to the dog dictionary"
      ],
      "metadata": {
        "id": "G5rucmVKWJam"
      }
    },
    {
      "cell_type": "code",
      "source": [
        "dog = {}\n",
        "\n",
        "dog['name'] = 'Buddy'\n",
        "dog['color'] = 'Brown'\n",
        "dog['breed'] = 'Golden Retriever'\n",
        "dog['legs'] = 4\n",
        "dog['age'] = 3\n",
        "\n",
        "print(dog)"
      ],
      "metadata": {
        "colab": {
          "base_uri": "https://localhost:8080/"
        },
        "id": "H4-DTIvdWOLZ",
        "outputId": "70767d6a-2642-44af-b563-a5c2950fb06f"
      },
      "execution_count": 5,
      "outputs": [
        {
          "output_type": "stream",
          "name": "stdout",
          "text": [
            "{'name': 'Buddy', 'color': 'Brown', 'breed': 'Golden Retriever', 'legs': 4, 'age': 3}\n"
          ]
        }
      ]
    },
    {
      "cell_type": "markdown",
      "source": [
        "6. Create a student dictionary and add first_name, last_name, gender, age, marital status, skills,\n",
        "country, city and address as keys for the dictionary\n",
        "I. Get the length of the student dictionary\n",
        "II. Get the value of skills and check the data type, it should be a list\n",
        "III. Modify the skills values by adding one or two skills\n",
        "IV. Get the dictionary keys as a list\n",
        "V. Get the dictionary values as a list\n",
        "VI. Change the dictionary to a list of tuples using _items()_ method\n",
        "VII. Delete one of the items in the dictionary\n",
        "VIII. Delete one of the dictionaries"
      ],
      "metadata": {
        "id": "nLmfqXY1YEDQ"
      }
    },
    {
      "cell_type": "code",
      "source": [
        "# I. Create the student dictionary\n",
        "student = {\n",
        "    'first_name': 'Subha',\n",
        "    'last_name': 'Saha',\n",
        "    'gender': 'Male',\n",
        "    'age': 22,\n",
        "    'marital_status': 'Single',\n",
        "    'skills': ['Python', 'Java'],\n",
        "    'country': 'INDIA',\n",
        "    'city': 'Newtown',\n",
        "    'address': 'PIN: 700160'\n",
        "}\n",
        "\n",
        "# II. Get the length of the student dictionary\n",
        "length_student = len(student)\n",
        "print(\"Length of student dictionary:\", length_student)\n",
        "\n",
        "# III. Get the value of skills and check the data type\n",
        "skills = student['skills']\n",
        "print(\"Skills:\", skills)\n",
        "print(\"Data type of skills:\", type(skills))  # Should output\n",
        "\n",
        "# IV. Modify the skills values by adding one or two skills\n",
        "student['skills'].append('PLSQL')\n",
        "student['skills'].append('C++')\n",
        "print(\"Updated skills:\", student['skills'])\n",
        "\n",
        "# V. Get the dictionary keys as a list\n",
        "keys = list(student.keys())\n",
        "print(\"Dictionary keys:\", keys)\n",
        "\n",
        "# VI. Get the dictionary values as a list\n",
        "values = list(student.values())\n",
        "print(\"Dictionary values:\", values)\n",
        "\n",
        "# VII. Change the dictionary to a list of tuples using items() method\n",
        "items = list(student.items())\n",
        "print(\"Dictionary as list of tuples:\", items)\n",
        "\n",
        "# VIII. Delete one of the items in the dictionary\n",
        "del student['marital_status']\n",
        "print(\"Student dictionary after deleting 'marital_status':\", student)\n",
        "\n",
        "# IX. Delete the dictionary completely\n",
        "del student\n",
        "print(\"Student dictionary deleted.\")"
      ],
      "metadata": {
        "colab": {
          "base_uri": "https://localhost:8080/"
        },
        "id": "5eSsz8vbYeIy",
        "outputId": "dbfd5a13-d3dc-43c9-b0e8-d73f165b28af"
      },
      "execution_count": 6,
      "outputs": [
        {
          "output_type": "stream",
          "name": "stdout",
          "text": [
            "Length of student dictionary: 9\n",
            "Skills: ['Python', 'Java']\n",
            "Data type of skills: <class 'list'>\n",
            "Updated skills: ['Python', 'Java', 'PLSQL', 'C++']\n",
            "Dictionary keys: ['first_name', 'last_name', 'gender', 'age', 'marital_status', 'skills', 'country', 'city', 'address']\n",
            "Dictionary values: ['Subha', 'Saha', 'Male', 22, 'Single', ['Python', 'Java', 'PLSQL', 'C++'], 'INDIA', 'Newtown', 'PIN: 700160']\n",
            "Dictionary as list of tuples: [('first_name', 'Subha'), ('last_name', 'Saha'), ('gender', 'Male'), ('age', 22), ('marital_status', 'Single'), ('skills', ['Python', 'Java', 'PLSQL', 'C++']), ('country', 'INDIA'), ('city', 'Newtown'), ('address', 'PIN: 700160')]\n",
            "Student dictionary after deleting 'marital_status': {'first_name': 'Subha', 'last_name': 'Saha', 'gender': 'Male', 'age': 22, 'skills': ['Python', 'Java', 'PLSQL', 'C++'], 'country': 'INDIA', 'city': 'Newtown', 'address': 'PIN: 700160'}\n",
            "Student dictionary deleted.\n"
          ]
        }
      ]
    },
    {
      "cell_type": "markdown",
      "source": [
        "7.Create a person dictionary.\n",
        "person={\n",
        "&#39;first_name&#39;: &#39;Asabeneh&#39;,\n",
        "&#39;last_name&#39;: &#39;Yetayeh&#39;,\n",
        "&#39;age&#39;: 250,\n",
        "&#39;country&#39;: &#39;Finland&#39;,\n",
        "&#39;is_marred&#39;: True,\n",
        "&#39;skills&#39;: [&#39;JavaScript&#39;, &#39;React&#39;, &#39;Node&#39;, &#39;MongoDB&#39;, &#39;Python&#39;],\n",
        "&#39;address&#39;: {\n",
        "&#39;street&#39;: &#39;Space street&#39;,\n",
        "&#39;zipcode&#39;: &#39;02210&#39;\n",
        "}\n",
        "}\n",
        "I. Check if the person dictionary has skills key, if so print out the middle skill in the skills list.\n",
        "II. Check if the person dictionary has skills key, if so check if the person has &#39;Python&#39; skill and\n",
        "print out the result.\n",
        "III. If a person skills has only JavaScript and React, print(&#39;He is a front end developer&#39;), if the\n",
        "person skills has Node, Python, MongoDB, print(&#39;He is a backend developer&#39;), if the person\n",
        "skills has React, Node and MongoDB, Print(&#39;He is a fullstack developer&#39;), else print(&#39;unknown\n",
        "title&#39;) - for more accurate results more conditions can be nested!\n",
        "IV. If the person is married and if he lives in Finland, print the information in the following\n",
        "format:\n",
        "\n",
        "```py\n",
        "Asabeneh Yetayeh lives in Finland. He is married."
      ],
      "metadata": {
        "id": "0XRxsBz4ZG_S"
      }
    },
    {
      "cell_type": "code",
      "source": [
        "person = {\n",
        "    'first_name': 'Asabeneh',\n",
        "    'last_name': 'Yetayeh',\n",
        "    'age': 250,\n",
        "    'country': 'Finland',\n",
        "    'is_marred': True,\n",
        "    'skills': ['JavaScript', 'React', 'Node', 'MongoDB', 'Python'],\n",
        "    'address': {\n",
        "        'street': 'Space street',\n",
        "        'zipcode': '02210'\n",
        "    }\n",
        "}\n",
        "\n",
        "# I. Check if the person dictionary has skills key, if so, print out the middle skill in the skills list\n",
        "if 'skills' in person:\n",
        "    skills = person['skills']\n",
        "    middle_index = len(skills) // 2\n",
        "    middle_skill = skills[middle_index]\n",
        "    print(\"Middle skill:\", middle_skill)\n",
        "\n",
        "# II. Check if the person dictionary has skills key, if so, check if the person has 'Python' skill and print out the result\n",
        "if 'skills' in person:\n",
        "    has_python = 'Python' in person['skills']\n",
        "    print(\"Has Python skill:\", has_python)\n",
        "\n",
        "    # III. Determine the person's title based on their skills\n",
        "if 'JavaScript' in skills and 'React' in skills and len(skills) == 2:\n",
        "    print('He is a front end developer')\n",
        "elif 'Node' in skills and 'Python' in skills and 'MongoDB' in skills:\n",
        "    print('He is a backend developer')\n",
        "elif 'React' in skills and 'Node' in skills and 'MongoDB' in skills:\n",
        "    print('He is a fullstack developer')\n",
        "else:\n",
        "    print('Unknown title')\n",
        "\n",
        "# IV. If the person is married and lives in Finland, print the information\n",
        "if person['is_marred'] and person['country'] == 'Finland':\n",
        "    full_name = person['first_name'] + ' ' + person['last_name']\n",
        "    print(f\"{full_name} lives in Finland. He is married.\")\n"
      ],
      "metadata": {
        "colab": {
          "base_uri": "https://localhost:8080/"
        },
        "id": "ilvsS5nvZYM1",
        "outputId": "a835aba3-3677-423f-9908-3507d697ddc0"
      },
      "execution_count": 7,
      "outputs": [
        {
          "output_type": "stream",
          "name": "stdout",
          "text": [
            "Middle skill: Node\n",
            "Has Python skill: True\n",
            "He is a backend developer\n",
            "Asabeneh Yetayeh lives in Finland. He is married.\n"
          ]
        }
      ]
    },
    {
      "cell_type": "markdown",
      "source": [
        "8. Print the season name of the year based on the month number using a dictionary."
      ],
      "metadata": {
        "id": "kWz3FoJTa9Zf"
      }
    },
    {
      "cell_type": "code",
      "source": [
        "month_to_season = {\n",
        "    1: 'Winter', 2: 'Winter', 3: 'Spring',\n",
        "    4: 'Spring', 5: 'Spring', 6: 'Summer',\n",
        "    7: 'Summer', 8: 'Summer', 9: 'Autumn',\n",
        "    10: 'Autumn', 11: 'Autumn', 12: 'Winter'\n",
        "}\n",
        "\n",
        "def get_season(month):\n",
        "    return month_to_season.get(month, 'Invalid month')\n",
        "\n",
        "month_number = int(input(\"Enter the month number: \"))\n",
        "season = get_season(month_number)\n",
        "print(f\"The season for month {month_number} is {season}.\")"
      ],
      "metadata": {
        "colab": {
          "base_uri": "https://localhost:8080/"
        },
        "id": "ASfYiNxdbDSw",
        "outputId": "508f6eb6-c821-42a1-d02b-dcb1080c9c56"
      },
      "execution_count": 8,
      "outputs": [
        {
          "output_type": "stream",
          "name": "stdout",
          "text": [
            "Enter the month number: 12\n",
            "The season for month 12 is Winter.\n"
          ]
        }
      ]
    },
    {
      "cell_type": "markdown",
      "source": [
        "Misc- Write a python program to check whether a given matrix is sparse or not."
      ],
      "metadata": {
        "id": "O_6VIlVMbwco"
      }
    },
    {
      "cell_type": "code",
      "source": [
        "def is_sparse(matrix):\n",
        "    total_elements = len(matrix) * len(matrix[0])\n",
        "    zero_count = sum(row.count(0) for row in matrix)\n",
        "    return zero_count > total_elements / 2\n",
        "\n",
        "matrix = [\n",
        "    [5, 8, 0],\n",
        "    [0, 4, 0],\n",
        "    [2, 0, 8]\n",
        "]\n",
        "\n",
        "print(\"The matrix is sparse:\", is_sparse(matrix))\n"
      ],
      "metadata": {
        "colab": {
          "base_uri": "https://localhost:8080/"
        },
        "id": "zFY7GapIb41B",
        "outputId": "b76ae69b-697d-42c4-d3f0-4a7063f1f333"
      },
      "execution_count": 9,
      "outputs": [
        {
          "output_type": "stream",
          "name": "stdout",
          "text": [
            "The matrix is sparse: False\n"
          ]
        }
      ]
    },
    {
      "cell_type": "markdown",
      "source": [
        "Write a python program to count the prime numbers in an array."
      ],
      "metadata": {
        "id": "cc1fU9oDdHGf"
      }
    },
    {
      "cell_type": "code",
      "source": [
        "def is_prime(n):\n",
        "    if n <= 1:\n",
        "        return False\n",
        "    for i in range(2, int(n**0.5) + 1):\n",
        "        if n % i == 0:\n",
        "            return False\n",
        "    return True\n",
        "\n",
        "def count_primes(arr):\n",
        "    return sum(1 for x in arr if is_prime(x))\n",
        "\n",
        "array = [2, 3, 4, 5, 6, 7, 8, 9, 10]\n",
        "print(\"Number of prime numbers:\", count_primes(array))"
      ],
      "metadata": {
        "colab": {
          "base_uri": "https://localhost:8080/"
        },
        "id": "emPqzvfkd0N0",
        "outputId": "2542b785-4a02-4573-8038-bbafc603e4c2"
      },
      "execution_count": 10,
      "outputs": [
        {
          "output_type": "stream",
          "name": "stdout",
          "text": [
            "Number of prime numbers: 4\n"
          ]
        }
      ]
    },
    {
      "cell_type": "markdown",
      "source": [
        "Write a python program to find second highest element of an array."
      ],
      "metadata": {
        "id": "w1W2Uorid6wR"
      }
    },
    {
      "cell_type": "code",
      "source": [
        "def second_highest(arr):\n",
        "    unique_arr = list(set(arr))\n",
        "    unique_arr.sort()\n",
        "    return unique_arr[-2] if len(unique_arr) > 1 else None\n",
        "\n",
        "array = [10, 20, 4, 45, 99, 99]\n",
        "print(\"Second highest element:\", second_highest(array))\n"
      ],
      "metadata": {
        "colab": {
          "base_uri": "https://localhost:8080/"
        },
        "id": "aXAUDV0neENs",
        "outputId": "0dd976a0-a0be-4db1-b21f-786d8827f7ab"
      },
      "execution_count": 11,
      "outputs": [
        {
          "output_type": "stream",
          "name": "stdout",
          "text": [
            "Second highest element: 45\n"
          ]
        }
      ]
    },
    {
      "cell_type": "markdown",
      "source": [
        "Write a python program which counts the non-zero elements in an integer array."
      ],
      "metadata": {
        "id": "AsCABYrreuhO"
      }
    },
    {
      "cell_type": "code",
      "source": [
        "def count_non_zero(arr):\n",
        "    return sum(1 for x in arr if x != 0)\n",
        "\n",
        "array = [0, 1, 2, 0, 3, 4, 0]\n",
        "print(\"Number of non-zero elements:\", count_non_zero(array))\n"
      ],
      "metadata": {
        "colab": {
          "base_uri": "https://localhost:8080/"
        },
        "id": "1CxjYx_bezmo",
        "outputId": "b793bef9-13ba-4f5c-a74a-dbab26d77e56"
      },
      "execution_count": 12,
      "outputs": [
        {
          "output_type": "stream",
          "name": "stdout",
          "text": [
            "Number of non-zero elements: 4\n"
          ]
        }
      ]
    },
    {
      "cell_type": "markdown",
      "source": [
        "Write a python program to merge two float arrays."
      ],
      "metadata": {
        "id": "ilo2Q9QrhfR2"
      }
    },
    {
      "cell_type": "code",
      "source": [
        "def merge_arrays(arr1, arr2):\n",
        "    return arr1 + arr2\n",
        "\n",
        "array1 = [1.1, 2.2, 3.3]\n",
        "array2 = [4.4, 5.5, 6.6]\n",
        "print(\"Merged array:\", merge_arrays(array1, array2))"
      ],
      "metadata": {
        "colab": {
          "base_uri": "https://localhost:8080/"
        },
        "id": "CrvtwuOYhl7p",
        "outputId": "35796193-93af-4c44-ab3c-c9c45e53020b"
      },
      "execution_count": 13,
      "outputs": [
        {
          "output_type": "stream",
          "name": "stdout",
          "text": [
            "Merged array: [1.1, 2.2, 3.3, 4.4, 5.5, 6.6]\n"
          ]
        }
      ]
    },
    {
      "cell_type": "markdown",
      "source": [
        "Write a python program where elements of two integer arrays get added index wise and get stored into a third array."
      ],
      "metadata": {
        "id": "4Bx6Ksgmh4cy"
      }
    },
    {
      "cell_type": "code",
      "source": [
        "def add_arrays(arr1, arr2):\n",
        "    return [x + y for x, y in zip(arr1, arr2)]\n",
        "\n",
        "a = [1, 2, 3]\n",
        "b = [4, 5, 6]\n",
        "print(\"Added array:\", add_arrays(a, b))"
      ],
      "metadata": {
        "colab": {
          "base_uri": "https://localhost:8080/"
        },
        "id": "ur5-bJkhh8tQ",
        "outputId": "2d2265bd-d361-46ab-8d95-7e9c3b316cd2"
      },
      "execution_count": 14,
      "outputs": [
        {
          "output_type": "stream",
          "name": "stdout",
          "text": [
            "Added array: [5, 7, 9]\n"
          ]
        }
      ]
    },
    {
      "cell_type": "markdown",
      "source": [
        "Write a python program to multiply two matrices."
      ],
      "metadata": {
        "id": "ck2AP0sRiHGu"
      }
    },
    {
      "cell_type": "code",
      "source": [
        "def get_matrix_input(rows, cols):\n",
        "    matrix = []\n",
        "    print(f\"Enter the elements of the matrix ({rows}x{cols}):\")\n",
        "    for i in range(rows):\n",
        "        row = list(map(int, input(f\"Enter row {i + 1}: \").split()))\n",
        "        matrix.append(row)\n",
        "    return matrix\n",
        "\n",
        "def multiply_matrices(A, B):\n",
        "    result = [[0 for _ in range(len(B[0]))] for _ in range(len(A))]\n",
        "    for i in range(len(A)):\n",
        "        for j in range(len(B[0])):\n",
        "            for k in range(len(B)):\n",
        "                result[i][j] += A[i][k] * B[k][j]\n",
        "    return result\n",
        "\n",
        "rows_A = int(input(\"Enter the number of rows for matrix A: \"))\n",
        "cols_A = int(input(\"Enter the number of columns for matrix A : \"))\n",
        "rows_B = int(input(\"Enter the number of rows for matrix B: \"))\n",
        "cols_B = int(input(\"Enter the number of columns for matrix B: \"))\n",
        "\n",
        "print(\"Matrix A:\")\n",
        "A = get_matrix_input(rows_A, cols_A)\n",
        "print(\"Matrix B:\")\n",
        "B = get_matrix_input(rows_B, cols_B)\n",
        "\n",
        "if cols_A != rows_B:\n",
        "    print(\"Matrices cannot be multiplied.\")\n",
        "else:\n",
        "  result = multiply_matrices(A, B)\n",
        "\n",
        "\n",
        "print(\"Product of matrices:\")\n",
        "for row in result:\n",
        "    print(row)"
      ],
      "metadata": {
        "colab": {
          "base_uri": "https://localhost:8080/"
        },
        "id": "QQ6Zh_7diLNk",
        "outputId": "fff4d3ba-95b9-4af8-81c4-aafd37008688"
      },
      "execution_count": 15,
      "outputs": [
        {
          "output_type": "stream",
          "name": "stdout",
          "text": [
            "Enter the number of rows for matrix A: 2\n",
            "Enter the number of columns for matrix A : 2\n",
            "Enter the number of rows for matrix B: 2\n",
            "Enter the number of columns for matrix B: 2\n",
            "Matrix A:\n",
            "Enter the elements of the matrix (2x2):\n",
            "Enter row 1: 1 6\n",
            "Enter row 2: 6 1\n",
            "Matrix B:\n",
            "Enter the elements of the matrix (2x2):\n",
            "Enter row 1: 4 8\n",
            "Enter row 2: 8 4\n",
            "Product of matrices:\n",
            "[52, 32]\n",
            "[32, 52]\n"
          ]
        }
      ]
    },
    {
      "cell_type": "markdown",
      "source": [
        "Write a python program to find duplicate elements in a 1D array and find their frequency of occurrence."
      ],
      "metadata": {
        "id": "ZXzTzbKVjJZz"
      }
    },
    {
      "cell_type": "code",
      "source": [
        "from collections import Counter\n",
        "\n",
        "def find_duplicates(arr):\n",
        "    count = Counter(arr)\n",
        "    return {k: v for k, v in count.items() if v > 1}\n",
        "\n",
        "array = [1, 2, 3, 2, 3, 4, 5]\n",
        "print(\"Duplicates and their frequencies:\", find_duplicates(array))"
      ],
      "metadata": {
        "colab": {
          "base_uri": "https://localhost:8080/"
        },
        "id": "a-23AN2pjSZ-",
        "outputId": "ea5da5bc-0c55-402e-ffaf-69683db2c432"
      },
      "execution_count": 16,
      "outputs": [
        {
          "output_type": "stream",
          "name": "stdout",
          "text": [
            "Duplicates and their frequencies: {2: 2, 3: 2}\n"
          ]
        }
      ]
    },
    {
      "cell_type": "markdown",
      "source": [
        "Write a python program to print every alternate number of a given array."
      ],
      "metadata": {
        "id": "99gLvygyjha2"
      }
    },
    {
      "cell_type": "code",
      "source": [
        "def print_alternate(arr):\n",
        "    return arr[::2]\n",
        "\n",
        "array = [1, 2, 3, 4, 5, 6]\n",
        "print(\"Every alternate number:\", print_alternate(array))"
      ],
      "metadata": {
        "colab": {
          "base_uri": "https://localhost:8080/"
        },
        "id": "oF1GNtHRjixn",
        "outputId": "34fc3afe-af29-4ce2-9287-858964d21da6"
      },
      "execution_count": 17,
      "outputs": [
        {
          "output_type": "stream",
          "name": "stdout",
          "text": [
            "Every alternate number: [1, 3, 5]\n"
          ]
        }
      ]
    }
  ]
}
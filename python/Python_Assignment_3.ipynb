{
  "nbformat": 4,
  "nbformat_minor": 0,
  "metadata": {
    "colab": {
      "provenance": []
    },
    "kernelspec": {
      "name": "python3",
      "display_name": "Python 3"
    },
    "language_info": {
      "name": "python"
    }
  },
  "cells": [
    {
      "cell_type": "markdown",
      "source": [
        "Write a function called check-season, it takes a month parameter and returns the season:\n",
        "Autumn, Winter, Spring or Summer."
      ],
      "metadata": {
        "id": "n3rqSQt_dJmj"
      }
    },
    {
      "cell_type": "code",
      "source": [
        "def check_season(month):\n",
        "    seasons = {\n",
        "        'January': 'Winter', 'February': 'Winter', 'March': 'Spring',\n",
        "        'April': 'Spring', 'May': 'Spring', 'June': 'Summer',\n",
        "        'July': 'Summer', 'August': 'Summer', 'September': 'Autumn',\n",
        "        'October': 'Autumn', 'November': 'Autumn', 'December': 'Winter'\n",
        "    }\n",
        "    return seasons.get(month.capitalize(), \"Invalid month\")\n",
        "month = input(\"Enter a month: \")\n",
        "season = check_season(month)\n",
        "print(f\"The season for {month} is {season}.\")\n"
      ],
      "metadata": {
        "colab": {
          "base_uri": "https://localhost:8080/"
        },
        "id": "WMS_hWATdbg1",
        "outputId": "b115be8e-3980-48c1-c3ad-4ec0499a168e"
      },
      "execution_count": null,
      "outputs": [
        {
          "output_type": "stream",
          "name": "stdout",
          "text": [
            "Enter a month: December\n",
            "The season for December is Winter.\n"
          ]
        }
      ]
    },
    {
      "cell_type": "markdown",
      "source": [
        "Write a function called calculate_slope which return the slope of a linear equation"
      ],
      "metadata": {
        "id": "SJ-s_uivetoM"
      }
    },
    {
      "cell_type": "code",
      "source": [
        "def calculate_slope(x1, y1, x2, y2):\n",
        "    if x1 == x2:\n",
        "        return \"Undefined (vertical line)\"\n",
        "    else:\n",
        "        slope = (y2 - y1) / (x2 - x1)\n",
        "        return slope\n",
        "x1 = float(input(\"Enter x1: \"))\n",
        "y1 = float(input(\"Enter y1: \"))\n",
        "x2 = float(input(\"Enter x2: \"))\n",
        "y2 = float(input(\"Enter y2: \"))\n",
        "slope = calculate_slope(x1, y1, x2, y2)\n",
        "print(f\"The slope of the line through ({x1}, {y1}) and ({x2}, {y2}) is {slope}.\")\n"
      ],
      "metadata": {
        "colab": {
          "base_uri": "https://localhost:8080/"
        },
        "id": "NrtAeqe0e1Fb",
        "outputId": "9b655185-2f24-4ae7-8fc1-dd28c16e2c1e"
      },
      "execution_count": null,
      "outputs": [
        {
          "output_type": "stream",
          "name": "stdout",
          "text": [
            "Enter x1: 1\n",
            "Enter y1: 2\n",
            "Enter x2: 3\n",
            "Enter y2: 6\n",
            "The slope of the line through (1.0, 2.0) and (3.0, 6.0) is 2.0.\n"
          ]
        }
      ]
    },
    {
      "cell_type": "markdown",
      "source": [
        "Quadratic equation is calculated as follows: ax² + bx + c = 0. Write a function which\n",
        "calculates solution set of a quadratic equation, _solve_quadratic_eqn_."
      ],
      "metadata": {
        "id": "KjfbURRNii-6"
      }
    },
    {
      "cell_type": "code",
      "source": [
        "import math\n",
        "def _solve_quadratic_eqn(a, b, c):\n",
        "    discriminant = b**2 - 4*a*c\n",
        "    if discriminant > 0:\n",
        "        root1 = (-b + math.sqrt(discriminant)) / (2*a)\n",
        "        root2 = (-b - math.sqrt(discriminant)) / (2*a)\n",
        "        return (root1, root2)\n",
        "    elif discriminant == 0:\n",
        "        root = -b / (2*a)\n",
        "        return (root,)\n",
        "    else:\n",
        "        return ()\n",
        "a = float(input(\"Enter coefficient a: \"))\n",
        "b = float(input(\"Enter coefficient b: \"))\n",
        "c = float(input(\"Enter coefficient c: \"))\n",
        "solutions = _solve_quadratic_eqn(a, b, c)\n",
        "if solutions:\n",
        "    if len(solutions) == 1:\n",
        "        print(f\"The solution is: {solutions[0]}\")\n",
        "    else:\n",
        "        print(f\"The solutions are: {solutions[0]} and {solutions[1]}\")\n",
        "else:\n",
        "    print(\"There are no real solutions.\")\n"
      ],
      "metadata": {
        "colab": {
          "base_uri": "https://localhost:8080/"
        },
        "id": "Ih12ZeF6iopS",
        "outputId": "5d68bcc8-8cae-4cfc-c31c-65dd642e9420"
      },
      "execution_count": null,
      "outputs": [
        {
          "output_type": "stream",
          "name": "stdout",
          "text": [
            "Enter coefficient a: 1\n",
            "Enter coefficient b: -3\n",
            "Enter coefficient c: 2\n",
            "The solutions are: 2.0 and 1.0\n"
          ]
        }
      ]
    },
    {
      "cell_type": "markdown",
      "source": [
        "Declare a function named print_list. It takes a list as a parameter and it prints out each\n",
        "element of the list."
      ],
      "metadata": {
        "id": "AOUNzkKLpoO1"
      }
    },
    {
      "cell_type": "code",
      "source": [
        "def print_list(lst):\n",
        "    for element in lst:\n",
        "        print(element)\n",
        "example_list = [1, 2, 3, 4, 5]\n",
        "print_list(example_list)\n"
      ],
      "metadata": {
        "colab": {
          "base_uri": "https://localhost:8080/"
        },
        "id": "6wkQmnrVpsRR",
        "outputId": "fc0fbd75-ace1-46f0-e481-9e0368845120"
      },
      "execution_count": null,
      "outputs": [
        {
          "output_type": "stream",
          "name": "stdout",
          "text": [
            "1\n",
            "2\n",
            "3\n",
            "4\n",
            "5\n"
          ]
        }
      ]
    },
    {
      "cell_type": "markdown",
      "source": [
        "Declare a function named reverse_list. It takes an array as a parameter and it returns the\n",
        "reverse of the array (use loops)."
      ],
      "metadata": {
        "id": "bG0G1HuMjTX5"
      }
    },
    {
      "cell_type": "code",
      "source": [
        "def reverse_list(arr):\n",
        "    reversed_arr = []\n",
        "    for i in range(len(arr) - 1, -1, -1):\n",
        "        reversed_arr.append(arr[i])\n",
        "    return reversed_arr\n",
        "example_array = [1, 2, 3, 4, 5]\n",
        "reversed_array = reverse_list(example_array)\n",
        "print(\"Original array:\", example_array)\n",
        "print(\"Reversed array:\", reversed_array)\n"
      ],
      "metadata": {
        "colab": {
          "base_uri": "https://localhost:8080/"
        },
        "id": "KlU58pfuto6q",
        "outputId": "417e7cd1-6920-4946-ba82-2b0234ef89c8"
      },
      "execution_count": null,
      "outputs": [
        {
          "output_type": "stream",
          "name": "stdout",
          "text": [
            "Original array: [1, 2, 3, 4, 5]\n",
            "Reversed array: [5, 4, 3, 2, 1]\n"
          ]
        }
      ]
    },
    {
      "cell_type": "markdown",
      "source": [
        "Compute the sum up to n terms in the series\n",
        "1 - 1/2 + 1/3 - 1/4 + 1/5 -... 1/n where n is a positive integer and input by user."
      ],
      "metadata": {
        "id": "3tGPwyLIuL9o"
      }
    },
    {
      "cell_type": "code",
      "source": [
        "def compute_series_sum(n):\n",
        "    sum_series = 0\n",
        "    for i in range(1, n + 1):\n",
        "        if i % 2 == 0:\n",
        "            sum_series -= 1 / i\n",
        "        else:\n",
        "            sum_series += 1 / i\n",
        "    return sum_series\n",
        "n = int(input(\"Enter a positive integer n: \"))\n",
        "series_sum = compute_series_sum(n)\n",
        "print(f\"The sum of the series up to {n} terms is: {series_sum}\")\n"
      ],
      "metadata": {
        "colab": {
          "base_uri": "https://localhost:8080/"
        },
        "id": "DntfoScvuTB4",
        "outputId": "eeaaf945-1fbe-4270-b02f-b33b016a3c94"
      },
      "execution_count": null,
      "outputs": [
        {
          "output_type": "stream",
          "name": "stdout",
          "text": [
            "Enter a positive integer n: 30\n",
            "The sum of the series up to 30 terms is: 0.6767581376913979\n"
          ]
        }
      ]
    },
    {
      "cell_type": "markdown",
      "source": [
        "Write a program to compute sin x for given x. The user should supply x and a positive integer\n",
        "n. We compute the sine of x using the series and the computation should use all terms in the\n",
        "series up through the term involving xn\n",
        "sin x = x - x3/3! + x5/5! - x7/7! + x9/9! ........"
      ],
      "metadata": {
        "id": "70ZwzPqSwbkx"
      }
    },
    {
      "cell_type": "code",
      "source": [
        "import math\n",
        "def factorial(num):\n",
        "    if num == 0 or num == 1:\n",
        "        return 1\n",
        "    else:\n",
        "        fact = 1\n",
        "        for i in range(2, num + 1):\n",
        "            fact *= i\n",
        "        return fact\n",
        "def compute_sin(x, n):\n",
        "    sin_x = 0\n",
        "    for i in range(n + 1):\n",
        "        term = ((-1) ** i) * (x ** (2 * i + 1)) / factorial(2 * i + 1)\n",
        "        sin_x += term\n",
        "    return sin_x\n",
        "x = float(input(\"Enter the value of x (in radians): \"))\n",
        "n = int(input(\"Enter a positive integer n: \"))\n",
        "sin_x = compute_sin(x, n)\n",
        "print(f\"The computed value of sin({x}) using {n} terms is: {sin_x}\")\n"
      ],
      "metadata": {
        "colab": {
          "base_uri": "https://localhost:8080/"
        },
        "id": "u13HTxj8wl9x",
        "outputId": "8e627584-4759-4ac8-c159-ecda3554ed1a"
      },
      "execution_count": null,
      "outputs": [
        {
          "output_type": "stream",
          "name": "stdout",
          "text": [
            "Enter the value of x (in radians): 0.7853981633974483\n",
            "Enter a positive integer n: 5\n",
            "The computed value of sin(0.7853981633974483) using 5 terms is: 0.7071067811796194\n"
          ]
        }
      ]
    },
    {
      "cell_type": "markdown",
      "source": [
        "Write a program to compute cosine of x. The user should supply x and a positive integer n.\n",
        "We compute the cosine of x using the series and the computation should use all terms in the\n",
        "series up through the term involving xn\n",
        "cos x = 1 - x2/2! + x4/4! - x6/6! ...."
      ],
      "metadata": {
        "id": "ABHWPvZOxd34"
      }
    },
    {
      "cell_type": "code",
      "source": [
        "import math\n",
        "def factorial(num):\n",
        "    if num == 0 or num == 1:\n",
        "        return 1\n",
        "    else:\n",
        "        fact = 1\n",
        "        for i in range(2, num + 1):\n",
        "            fact *= i\n",
        "        return fact\n",
        "def compute_cos(x, n):\n",
        "    cos_x = 0\n",
        "    for i in range(n + 1):\n",
        "        term = ((-1) ** i) * (x ** (2 * i)) / factorial(2 * i)\n",
        "        cos_x += term\n",
        "    return cos_x\n",
        "x = float(input(\"Enter the value of x (in radians): \"))\n",
        "n = int(input(\"Enter a positive integer n: \"))\n",
        "cos_x = compute_cos(x, n)\n",
        "print(f\"The computed value of cos({x}) using {n} terms is: {cos_x}\")\n"
      ],
      "metadata": {
        "colab": {
          "base_uri": "https://localhost:8080/"
        },
        "id": "Lm_FESkFzzJR",
        "outputId": "39e2f2f3-1682-4375-8b65-8385be74af41"
      },
      "execution_count": null,
      "outputs": [
        {
          "output_type": "stream",
          "name": "stdout",
          "text": [
            "Enter the value of x (in radians): 0.7853981633974483\n",
            "Enter a positive integer n: 5\n",
            "The computed value of cos(0.7853981633974483) using 5 terms is: 0.7071067810719247\n"
          ]
        }
      ]
    },
    {
      "cell_type": "markdown",
      "source": [
        "Print the pattern upto N Lines:\n",
        "\n",
        ".\n",
        "/_\\\n",
        ".\n",
        "/ \\\n",
        "/___\\\n",
        ".\n",
        "/ \\\n",
        "/ \\\n",
        "/_____\\\n",
        "\n",
        "N=2 N=3 N=4"
      ],
      "metadata": {
        "id": "sDw-qHZv4ICj"
      }
    },
    {
      "cell_type": "code",
      "source": [
        "def print_pattern(N):\n",
        "    for i in range(1, N + 1):\n",
        "        print(\" \" * (N - i) + \".\")\n",
        "        for j in range(i - 1):\n",
        "            print(\" \" * (N - i) + \"/\" + \" \" * (2 * j) + \"\\\\\")\n",
        "        print(\" \" * (N - i) + \"/\" + \"_\" * (2 * (i - 1)) + \"\\\\\")\n",
        "        print()\n",
        "N = int(input(\"Enter the value of N: \"))\n",
        "print_pattern(N)\n"
      ],
      "metadata": {
        "colab": {
          "base_uri": "https://localhost:8080/"
        },
        "id": "CAnV3kXr5MmM",
        "outputId": "813caf5f-25c7-4444-8774-410508200b22"
      },
      "execution_count": null,
      "outputs": [
        {
          "output_type": "stream",
          "name": "stdout",
          "text": [
            "Enter the value of N: 2\n",
            " .\n",
            " /\\\n",
            "\n",
            ".\n",
            "/\\\n",
            "/__\\\n",
            "\n"
          ]
        }
      ]
    },
    {
      "cell_type": "markdown",
      "source": [
        "Print the pattern upto N lines:\n",
        "1 2\n",
        "4 3\n",
        "\n",
        "1 2 3\n",
        "8 9 4\n",
        "7 6 5\n",
        "\n",
        "1 2 3 4\n",
        "12 13 14 5\n",
        "11 16 15 6\n",
        "10 9 8 7\n",
        "\n",
        "N=2 N=3 N=4"
      ],
      "metadata": {
        "id": "axw34jK55ZMh"
      }
    },
    {
      "cell_type": "code",
      "source": [
        "def generate_spiral_matrix(N):\n",
        "    matrix = [[0] * N for _ in range(N)]\n",
        "    num = 1\n",
        "    left, right = 0, N - 1\n",
        "    top, bottom = 0, N - 1\n",
        "\n",
        "    while left <= right and top <= bottom:\n",
        "        for i in range(left, right + 1):\n",
        "            matrix[top][i] = num\n",
        "            num += 1\n",
        "        top += 1\n",
        "\n",
        "        for i in range(top, bottom + 1):\n",
        "            matrix[i][right] = num\n",
        "            num += 1\n",
        "        right -= 1\n",
        "\n",
        "        for i in range(right, left - 1, -1):\n",
        "            matrix[bottom][i] = num\n",
        "            num += 1\n",
        "        bottom -= 1\n",
        "\n",
        "        for i in range(bottom, top - 1, -1):\n",
        "            matrix[i][left] = num\n",
        "            num += 1\n",
        "        left += 1\n",
        "\n",
        "    return matrix\n",
        "\n",
        "def print_spiral_matrix(matrix):\n",
        "    for row in matrix:\n",
        "        print(\" \".join(map(str, row)))\n",
        "\n",
        "# Example usage\n",
        "N = int(input(\"Enter the value of N: \"))\n",
        "spiral_matrix = generate_spiral_matrix(N)\n",
        "print_spiral_matrix(spiral_matrix)\n"
      ],
      "metadata": {
        "colab": {
          "base_uri": "https://localhost:8080/"
        },
        "id": "44r2heF275t5",
        "outputId": "91290b4e-8221-455e-ed23-ddc14be5bfd9"
      },
      "execution_count": null,
      "outputs": [
        {
          "output_type": "stream",
          "name": "stdout",
          "text": [
            "Enter the value of N: 2\n",
            "1 2\n",
            "4 3\n"
          ]
        }
      ]
    },
    {
      "cell_type": "markdown",
      "source": [
        "Write a python script that displays the following table\n",
        "1 1 1 1 1\n",
        "2 1 2 4 8\n",
        "3 1 3 9 27\n",
        "4 1 4 16 64\n",
        "5 1 5 25 125"
      ],
      "metadata": {
        "id": "pFB8cVEK9jsf"
      }
    },
    {
      "cell_type": "code",
      "source": [
        "def generate_table():\n",
        "    print(\"Number 1 Number Number^2 Number^3\")\n",
        "    for i in range(1, 6):\n",
        "        number = i\n",
        "        print(f\"{number} 1 {number} {number ** 2} {number ** 3}\")\n",
        "generate_table()\n"
      ],
      "metadata": {
        "colab": {
          "base_uri": "https://localhost:8080/"
        },
        "id": "p0cy9Cel_9bf",
        "outputId": "2f635b6c-d532-4283-bae0-1d9221cb92e4"
      },
      "execution_count": null,
      "outputs": [
        {
          "output_type": "stream",
          "name": "stdout",
          "text": [
            "Number 1 Number Number^2 Number^3\n",
            "1 1 1 1 1\n",
            "2 1 2 4 8\n",
            "3 1 3 9 27\n",
            "4 1 4 16 64\n",
            "5 1 5 25 125\n"
          ]
        }
      ]
    },
    {
      "cell_type": "markdown",
      "source": [
        "Misc-  Sample program to display prime numbers between a given interval"
      ],
      "metadata": {
        "id": "ieLJvEByV2MC"
      }
    },
    {
      "cell_type": "code",
      "source": [
        "def is_prime(n):\n",
        "    if n <= 1:\n",
        "        return False\n",
        "    for i in range(2, int(n**0.5) + 1):\n",
        "        if n % i == 0:\n",
        "            return False\n",
        "    return True\n",
        "def find_primes(start, end):\n",
        "    primes = []\n",
        "    for num in range(start, end + 1):\n",
        "        if is_prime(num):\n",
        "            primes.append(num)\n",
        "    return primes\n",
        "def main():\n",
        "    start = int(input(\"Enter the starting number of the interval: \"))\n",
        "    end = int(input(\"Enter the ending number of the interval: \"))\n",
        "    if start > end:\n",
        "        print(\"Invalid interval. The starting number must be less than or equal to the ending number.\")\n",
        "    else:\n",
        "        primes = find_primes(start, end)\n",
        "        print(f\"Prime numbers between {start} and {end}: {primes}\")\n",
        "if __name__ == \"__main__\":\n",
        "    main()\n"
      ],
      "metadata": {
        "colab": {
          "base_uri": "https://localhost:8080/"
        },
        "id": "luj128qXWAaj",
        "outputId": "79987254-ef05-4f8a-879e-7344eb2b356f"
      },
      "execution_count": 1,
      "outputs": [
        {
          "output_type": "stream",
          "name": "stdout",
          "text": [
            "Enter the starting number of the interval: 10\n",
            "Enter the ending number of the interval: 50\n",
            "Prime numbers between 10 and 50: [11, 13, 17, 19, 23, 29, 31, 37, 41, 43, 47]\n"
          ]
        }
      ]
    },
    {
      "cell_type": "markdown",
      "source": [
        "Sample program to check whether a given number is Armstrong Number or not"
      ],
      "metadata": {
        "id": "2qNOul1UYjLl"
      }
    },
    {
      "cell_type": "code",
      "source": [
        "def is_armstrong(number):\n",
        "    num_str = str(number)\n",
        "    num_digits = len(num_str)\n",
        "    armstrong_sum = sum(int(digit) ** num_digits for digit in num_str)\n",
        "    return armstrong_sum == number\n",
        "def main():\n",
        "    number = int(input(\"Enter a number to check if it is an Armstrong number: \"))\n",
        "    if is_armstrong(number):\n",
        "        print(f\"{number} is an Armstrong number.\")\n",
        "    else:\n",
        "        print(f\"{number} is not an Armstrong number.\")\n",
        "if __name__ == \"__main__\":\n",
        "    main()\n"
      ],
      "metadata": {
        "colab": {
          "base_uri": "https://localhost:8080/"
        },
        "id": "t9qlgknUYrjT",
        "outputId": "48993acd-799b-41ed-90c2-d9c394bf7003"
      },
      "execution_count": 2,
      "outputs": [
        {
          "output_type": "stream",
          "name": "stdout",
          "text": [
            "Enter a number to check if it is an Armstrong number: 153\n",
            "153 is an Armstrong number.\n"
          ]
        }
      ]
    },
    {
      "cell_type": "markdown",
      "source": [
        "Sample program to print 1\n",
        "                        2 3 4\n",
        "                        5 6 7 8 9\n"
      ],
      "metadata": {
        "id": "YPja2VQDce3q"
      }
    },
    {
      "cell_type": "code",
      "source": [
        "def print_pattern(rows):\n",
        "    current_num = 1\n",
        "    for i in range(1, rows + 1):\n",
        "        for j in range(1, 2*i):\n",
        "            print(current_num, end=' ')\n",
        "            current_num += 1\n",
        "        print()\n",
        "def main():\n",
        "    rows = 3\n",
        "    print_pattern(rows)\n",
        "if __name__ == \"__main__\":\n",
        "    main()\n"
      ],
      "metadata": {
        "colab": {
          "base_uri": "https://localhost:8080/"
        },
        "id": "xrWmZ4Upco2D",
        "outputId": "c2e8e2c3-8393-4ecf-9a8c-e8268a357c15"
      },
      "execution_count": 4,
      "outputs": [
        {
          "output_type": "stream",
          "name": "stdout",
          "text": [
            "1 \n",
            "2 3 4 \n",
            "5 6 7 8 9 \n"
          ]
        }
      ]
    },
    {
      "cell_type": "markdown",
      "source": [
        "Sample program to calculate Sum & Average of an integer array"
      ],
      "metadata": {
        "id": "BjNvdbefcyB4"
      }
    },
    {
      "cell_type": "code",
      "source": [
        "def calculate_sum_and_average(arr):\n",
        "    total_sum = sum(arr)\n",
        "    average = total_sum / len(arr) if len(arr) > 0 else 0\n",
        "    return total_sum, average\n",
        "def main():\n",
        "    array = list(map(int, input(\"Enter the integers separated by spaces: \").split()))\n",
        "    total_sum, average = calculate_sum_and_average(array)\n",
        "    # Displaying the results\n",
        "    print(f\"Sum of the array: {total_sum}\")\n",
        "    print(f\"Average of the array: {average}\")\n",
        "if __name__ == \"__main__\":\n",
        "    main()\n"
      ],
      "metadata": {
        "colab": {
          "base_uri": "https://localhost:8080/"
        },
        "id": "LQKdn_agc_V_",
        "outputId": "1756ad2c-17cf-4930-ddb9-9821a9e74e6d"
      },
      "execution_count": 5,
      "outputs": [
        {
          "output_type": "stream",
          "name": "stdout",
          "text": [
            "Enter the integers separated by spaces: 1 2 3 4 5\n",
            "Sum of the array: 15\n",
            "Average of the array: 3.0\n"
          ]
        }
      ]
    },
    {
      "cell_type": "markdown",
      "source": [
        "Sample program to implement stack using array"
      ],
      "metadata": {
        "id": "nCm5-ib4dpGW"
      }
    },
    {
      "cell_type": "code",
      "source": [
        "class Stack:\n",
        "    def __init__(self):\n",
        "        self.stack = []\n",
        "\n",
        "    def is_empty(self):\n",
        "        return len(self.stack) == 0\n",
        "\n",
        "    def push(self, item):\n",
        "        self.stack.append(item)\n",
        "        print(f\"Pushed {item} to the stack.\")\n",
        "\n",
        "    def pop(self):\n",
        "        if self.is_empty():\n",
        "            return \"Stack is empty.\"\n",
        "        return f\"Popped {self.stack.pop()} from the stack.\"\n",
        "\n",
        "    def display(self):\n",
        "        if self.is_empty():\n",
        "            return \"Stack is empty.\"\n",
        "        return f\"Current stack: {self.stack}\"\n",
        "\n",
        "def main():\n",
        "    stack = Stack()\n",
        "\n",
        "    while True:\n",
        "        print(\"\\nOptions:\")\n",
        "        print(\"1. Push\")\n",
        "        print(\"2. Pop\")\n",
        "        print(\"3. Display\")\n",
        "        print(\"4. Exit\")\n",
        "        choice = int(input(\"Enter your choice: \"))\n",
        "\n",
        "        if choice == 1:\n",
        "            item = int(input(\"Enter the item to push: \"))\n",
        "            stack.push(item)\n",
        "        elif choice == 2:\n",
        "            print(stack.pop())\n",
        "        elif choice == 3:\n",
        "            print(stack.display())\n",
        "        elif choice == 4:\n",
        "            print(\"Exiting...\")\n",
        "            break\n",
        "        else:\n",
        "            print(\"Invalid choice. Please try again.\")\n",
        "if __name__ == \"__main__\":\n",
        "    main()\n"
      ],
      "metadata": {
        "colab": {
          "base_uri": "https://localhost:8080/"
        },
        "id": "f-jJa6WvdwtL",
        "outputId": "0df96d91-25bf-40c2-cf66-81454d3d4fed"
      },
      "execution_count": 7,
      "outputs": [
        {
          "output_type": "stream",
          "name": "stdout",
          "text": [
            "\n",
            "Options:\n",
            "1. Push\n",
            "2. Pop\n",
            "3. Display\n",
            "4. Exit\n",
            "Enter your choice: 1\n",
            "Enter the item to push: 20\n",
            "Pushed 20 to the stack.\n",
            "\n",
            "Options:\n",
            "1. Push\n",
            "2. Pop\n",
            "3. Display\n",
            "4. Exit\n",
            "Enter your choice: 1\n",
            "Enter the item to push: 55\n",
            "Pushed 55 to the stack.\n",
            "\n",
            "Options:\n",
            "1. Push\n",
            "2. Pop\n",
            "3. Display\n",
            "4. Exit\n",
            "Enter your choice: 1\n",
            "Enter the item to push: 88\n",
            "Pushed 88 to the stack.\n",
            "\n",
            "Options:\n",
            "1. Push\n",
            "2. Pop\n",
            "3. Display\n",
            "4. Exit\n",
            "Enter your choice: 1\n",
            "Enter the item to push: 44\n",
            "Pushed 44 to the stack.\n",
            "\n",
            "Options:\n",
            "1. Push\n",
            "2. Pop\n",
            "3. Display\n",
            "4. Exit\n",
            "Enter your choice: 3\n",
            "Current stack: [20, 55, 88, 44]\n",
            "\n",
            "Options:\n",
            "1. Push\n",
            "2. Pop\n",
            "3. Display\n",
            "4. Exit\n",
            "Enter your choice: 4\n",
            "Exiting...\n"
          ]
        }
      ]
    },
    {
      "cell_type": "markdown",
      "source": [
        "Sample program to implement Queue using array"
      ],
      "metadata": {
        "id": "qTuuUQ3RfEyg"
      }
    },
    {
      "cell_type": "code",
      "source": [
        "class Queue:\n",
        "    def __init__(self):\n",
        "        self.queue = []\n",
        "\n",
        "    def is_empty(self):\n",
        "        return len(self.queue) == 0\n",
        "\n",
        "    def enqueue(self, item):\n",
        "        self.queue.append(item)\n",
        "        print(f\"Enqueued {item} to the queue.\")\n",
        "\n",
        "    def dequeue(self):\n",
        "        if self.is_empty():\n",
        "            return \"Queue is empty.\"\n",
        "        return f\"Dequeued {self.queue.pop(0)} from the queue.\"\n",
        "\n",
        "    def display(self):\n",
        "        if self.is_empty():\n",
        "            return \"Queue is empty.\"\n",
        "        return f\"Current queue: {self.queue}\"\n",
        "\n",
        "def main():\n",
        "    queue = Queue()\n",
        "\n",
        "    while True:\n",
        "        print(\"\\nOptions:\")\n",
        "        print(\"1. Enqueue\")\n",
        "        print(\"2. Dequeue\")\n",
        "        print(\"3. Display\")\n",
        "        print(\"4. Exit\")\n",
        "        choice = int(input(\"Enter your choice: \"))\n",
        "\n",
        "        if choice == 1:\n",
        "            item = int(input(\"Enter the item to enqueue: \"))\n",
        "            queue.enqueue(item)\n",
        "        elif choice == 2:\n",
        "            print(queue.dequeue())\n",
        "        elif choice == 3:\n",
        "            print(queue.display())\n",
        "        elif choice == 4:\n",
        "            print(\"Exiting...\")\n",
        "            break\n",
        "        else:\n",
        "            print(\"Invalid choice. Please try again.\")\n",
        "\n",
        "if __name__ == \"__main__\":\n",
        "    main()\n"
      ],
      "metadata": {
        "colab": {
          "base_uri": "https://localhost:8080/"
        },
        "id": "ox55tmymfSd0",
        "outputId": "2fb816ab-cf54-40eb-ec30-90b234b321c1"
      },
      "execution_count": 8,
      "outputs": [
        {
          "output_type": "stream",
          "name": "stdout",
          "text": [
            "\n",
            "Options:\n",
            "1. Enqueue\n",
            "2. Dequeue\n",
            "3. Display\n",
            "4. Exit\n",
            "Enter your choice: 1\n",
            "Enter the item to enqueue: 20\n",
            "Enqueued 20 to the queue.\n",
            "\n",
            "Options:\n",
            "1. Enqueue\n",
            "2. Dequeue\n",
            "3. Display\n",
            "4. Exit\n",
            "Enter your choice: 1\n",
            "Enter the item to enqueue: 50\n",
            "Enqueued 50 to the queue.\n",
            "\n",
            "Options:\n",
            "1. Enqueue\n",
            "2. Dequeue\n",
            "3. Display\n",
            "4. Exit\n",
            "Enter your choice: 3\n",
            "Current queue: [20, 50]\n",
            "\n",
            "Options:\n",
            "1. Enqueue\n",
            "2. Dequeue\n",
            "3. Display\n",
            "4. Exit\n",
            "Enter your choice: 2\n",
            "Dequeued 20 from the queue.\n",
            "\n",
            "Options:\n",
            "1. Enqueue\n",
            "2. Dequeue\n",
            "3. Display\n",
            "4. Exit\n",
            "Enter your choice: 3\n",
            "Current queue: [50]\n",
            "\n",
            "Options:\n",
            "1. Enqueue\n",
            "2. Dequeue\n",
            "3. Display\n",
            "4. Exit\n",
            "Enter your choice: 4\n",
            "Exiting...\n"
          ]
        }
      ]
    },
    {
      "cell_type": "markdown",
      "source": [
        "Sample progra to calculate Sum of two 2-dimensional arrays"
      ],
      "metadata": {
        "id": "o-iZ4fFLghLq"
      }
    },
    {
      "cell_type": "code",
      "source": [
        "def input_matrix(rows, cols):\n",
        "    matrix = []\n",
        "    print(f\"Enter the elements for a {rows}x{cols} matrix:\")\n",
        "    for i in range(rows):\n",
        "        row = list(map(int, input(f\"Enter row {i+1}: \").split()))\n",
        "        if len(row) != cols:\n",
        "            raise ValueError(\"The number of columns entered does not match the specified number of columns.\")\n",
        "        matrix.append(row)\n",
        "    return matrix\n",
        "\n",
        "def add_matrices(matrix1, matrix2):\n",
        "    rows = len(matrix1)\n",
        "    cols = len(matrix1[0])\n",
        "    result = []\n",
        "    for i in range(rows):\n",
        "        row = []\n",
        "        for j in range(cols):\n",
        "            row.append(matrix1[i][j] + matrix2[i][j])\n",
        "        result.append(row)\n",
        "    return result\n",
        "\n",
        "def main():\n",
        "    rows = int(input(\"Enter the number of rows: \"))\n",
        "    cols = int(input(\"Enter the number of columns: \"))\n",
        "\n",
        "    print(\"Matrix 1:\")\n",
        "    matrix1 = input_matrix(rows, cols)\n",
        "\n",
        "    print(\"Matrix 2:\")\n",
        "    matrix2 = input_matrix(rows, cols)\n",
        "\n",
        "    sum_matrix = add_matrices(matrix1, matrix2)\n",
        "\n",
        "    print(\"Sum of the two matrices:\")\n",
        "    for row in sum_matrix:\n",
        "        print(' '.join(map(str, row)))\n",
        "\n",
        "if __name__ == \"__main__\":\n",
        "    main()\n"
      ],
      "metadata": {
        "colab": {
          "base_uri": "https://localhost:8080/"
        },
        "id": "q5T3ym9mgrfV",
        "outputId": "b2c4c80c-2c6e-4085-bf8d-484ad509d70f"
      },
      "execution_count": 10,
      "outputs": [
        {
          "output_type": "stream",
          "name": "stdout",
          "text": [
            "Enter the number of rows: 2\n",
            "Enter the number of columns: 2\n",
            "Matrix 1:\n",
            "Enter the elements for a 2x2 matrix:\n",
            "Enter row 1: 5 9\n",
            "Enter row 2: 6 7 \n",
            "Matrix 2:\n",
            "Enter the elements for a 2x2 matrix:\n",
            "Enter row 1: 2 6\n",
            "Enter row 2: 7 4\n",
            "Sum of the two matrices:\n",
            "7 15\n",
            "13 11\n"
          ]
        }
      ]
    },
    {
      "cell_type": "markdown",
      "source": [
        "Sample program to find the range of a 1D array"
      ],
      "metadata": {
        "id": "trq1fMSQiNJL"
      }
    },
    {
      "cell_type": "code",
      "source": [
        "def find_range(arr):\n",
        "    if len(arr) == 0:\n",
        "        return 0\n",
        "    return max(arr) - min(arr)\n",
        "def main():\n",
        "    array = list(map(int, input(\"Enter the integers separated by spaces: \").split()))\n",
        "    range_value = find_range(array)\n",
        "    print(f\"The range of the array is: {range_value}\")\n",
        "if __name__ == \"__main__\":\n",
        "    main()\n"
      ],
      "metadata": {
        "colab": {
          "base_uri": "https://localhost:8080/"
        },
        "id": "-vGDCwVDiVmI",
        "outputId": "3501c56b-4031-47b9-9277-c1060971ff89"
      },
      "execution_count": 11,
      "outputs": [
        {
          "output_type": "stream",
          "name": "stdout",
          "text": [
            "Enter the integers separated by spaces: 10 20 30 40 50\n",
            "The range of the array is: 40\n"
          ]
        }
      ]
    }
  ]
}

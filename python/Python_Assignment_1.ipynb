{
 "cells": [
  {
   "cell_type": "code",
   "execution_count": 1,
   "id": "e0d1e19a",
   "metadata": {},
   "outputs": [
    {
     "name": "stdout",
     "output_type": "stream",
     "text": [
      "Enter the temperature(°C):44.4\n",
      "44.4°C is equal to 111.91999999999999°F\n"
     ]
    }
   ],
   "source": [
    "#1. Convert Temperature from Celsius to Fahrenheit\n",
    "\n",
    "def celsius_to_fahrenheit(c):\n",
    "    f=(c*9/5)+32\n",
    "    return f\n",
    "\n",
    "celsius=float(input(\"Enter the temperature(°C):\"))\n",
    "print(f\"{celsius}°C is equal to {celsius_to_fahrenheit(celsius)}°F\")\n",
    "    \n"
   ]
  },
  {
   "cell_type": "code",
   "execution_count": 8,
   "id": "2d96f324",
   "metadata": {},
   "outputs": [
    {
     "name": "stdout",
     "output_type": "stream",
     "text": [
      "Enter the 1st number:3 4\n",
      "Swapped numbers: (4, 3)\n"
     ]
    }
   ],
   "source": [
    "#2.Swap Two Numbers\n",
    "\n",
    "def swap_numbers(n1, n2):\n",
    "    a, b = n2, n1\n",
    "    return a, b\n",
    "\n",
    "n1,n2=map(int,input(\"Enter the 1st number:\").split())\n",
    "print(f\"Swapped numbers: {swap_numbers(n1, n2)}\")\n"
   ]
  },
  {
   "cell_type": "code",
   "execution_count": 9,
   "id": "02a35c32",
   "metadata": {},
   "outputs": [
    {
     "name": "stdout",
     "output_type": "stream",
     "text": [
      "2024 is a leap year.\n"
     ]
    }
   ],
   "source": [
    "#3. Check Whether a Given Year is a Leap Year\n",
    "\n",
    "def is_leap_year(year):\n",
    "    if (year % 4 == 0 and year % 100 != 0) or (year % 400 == 0):\n",
    "        return True\n",
    "    else:\n",
    "        return False\n",
    "\n",
    "year = 2024\n",
    "if is_leap_year(year):\n",
    "    print(f\"{year} is a leap year.\")\n",
    "else:\n",
    "    print(f\"{year} is not a leap year.\")\n"
   ]
  },
  {
   "cell_type": "code",
   "execution_count": 12,
   "id": "1d67d4d7",
   "metadata": {},
   "outputs": [
    {
     "name": "stdout",
     "output_type": "stream",
     "text": [
      "Reverse of 12345 is 54321\n"
     ]
    }
   ],
   "source": [
    "#4. Display Reverse of a Number\n",
    "\n",
    "def reverse_number(num):\n",
    "    reversed_num = int(str(num)[::-1])\n",
    "    return reversed_num\n",
    "\n",
    "num = 12345\n",
    "print(f\"Reverse of {num} is {reverse_number(num)}\")\n"
   ]
  },
  {
   "cell_type": "code",
   "execution_count": 13,
   "id": "25001b72",
   "metadata": {},
   "outputs": [
    {
     "name": "stdout",
     "output_type": "stream",
     "text": [
      "Factors of 24 are [1, 2, 3, 4, 6, 8, 12, 24]\n"
     ]
    }
   ],
   "source": [
    "#5. Find Factors of a Given Number\n",
    "\n",
    "def find_factors(n):\n",
    "    factors = []\n",
    "    for i in range(1, n + 1):\n",
    "        if n % i == 0:\n",
    "            factors.append(i)\n",
    "    return factors\n",
    "\n",
    "n = 24\n",
    "print(f\"Factors of {n} are {find_factors(n)}\")\n"
   ]
  },
  {
   "cell_type": "code",
   "execution_count": 15,
   "id": "4c5a215f",
   "metadata": {},
   "outputs": [
    {
     "name": "stdout",
     "output_type": "stream",
     "text": [
      "Prime numbers up to 30 are [2, 3, 5, 7, 11, 13, 17, 19, 23, 29]\n"
     ]
    }
   ],
   "source": [
    "#6. Generate Prime Number Series up to n\n",
    "\n",
    "def is_prime(num):\n",
    "    if num <= 1:\n",
    "        return False\n",
    "    for i in range(2, int(num**0.5) + 1):\n",
    "        if num % i == 0:\n",
    "            return False\n",
    "    return True\n",
    "\n",
    "def prime_series(n):\n",
    "    primes = []\n",
    "    for num in range(2, n + 1):\n",
    "        if is_prime(num):\n",
    "            primes.append(num)\n",
    "    return primes\n",
    "\n",
    "n = 30\n",
    "print(f\"Prime numbers up to {n} are {prime_series(n)}\")\n"
   ]
  },
  {
   "cell_type": "code",
   "execution_count": 16,
   "id": "2518cdef",
   "metadata": {},
   "outputs": [
    {
     "name": "stdout",
     "output_type": "stream",
     "text": [
      "Numbers divisible by 7 but not multiple of 5 between 1000 and 2000 are:\n",
      "[1001, 1008, 1022, 1029, 1036, 1043, 1057, 1064, 1071, 1078, 1092, 1099, 1106, 1113, 1127, 1134, 1141, 1148, 1162, 1169, 1176, 1183, 1197, 1204, 1211, 1218, 1232, 1239, 1246, 1253, 1267, 1274, 1281, 1288, 1302, 1309, 1316, 1323, 1337, 1344, 1351, 1358, 1372, 1379, 1386, 1393, 1407, 1414, 1421, 1428, 1442, 1449, 1456, 1463, 1477, 1484, 1491, 1498, 1512, 1519, 1526, 1533, 1547, 1554, 1561, 1568, 1582, 1589, 1596, 1603, 1617, 1624, 1631, 1638, 1652, 1659, 1666, 1673, 1687, 1694, 1701, 1708, 1722, 1729, 1736, 1743, 1757, 1764, 1771, 1778, 1792, 1799, 1806, 1813, 1827, 1834, 1841, 1848, 1862, 1869, 1876, 1883, 1897, 1904, 1911, 1918, 1932, 1939, 1946, 1953, 1967, 1974, 1981, 1988]\n"
     ]
    }
   ],
   "source": [
    "#7. Display Numbers Divisible by 7 but Not a Multiple of 5 Between 1000 and 2000\n",
    "\n",
    "def divisible_by_7_not_5():\n",
    "    numbers = []\n",
    "    for num in range(1000, 2001):\n",
    "        if num % 7 == 0 and num % 5 != 0:\n",
    "            numbers.append(num)\n",
    "    return numbers\n",
    "\n",
    "print(\"Numbers divisible by 7 but not multiple of 5 between 1000 and 2000 are:\")\n",
    "print(divisible_by_7_not_5())\n"
   ]
  },
  {
   "cell_type": "code",
   "execution_count": 18,
   "id": "45a4bf77",
   "metadata": {},
   "outputs": [
    {
     "name": "stdout",
     "output_type": "stream",
     "text": [
      "343 is a palindrome.\n"
     ]
    }
   ],
   "source": [
    "#8. Check Whether a Number is a Palindrome or Not\n",
    "\n",
    "def is_palindrome(num):\n",
    "    return str(num) == str(num)[::-1]\n",
    "\n",
    "num = 343\n",
    "if is_palindrome(num):\n",
    "    print(f\"{num} is a palindrome.\")\n",
    "else:\n",
    "    print(f\"{num} is not a palindrome.\")\n"
   ]
  },
  {
   "cell_type": "code",
   "execution_count": 21,
   "id": "02a06e25",
   "metadata": {},
   "outputs": [
    {
     "name": "stdout",
     "output_type": "stream",
     "text": [
      "496 is a perfect number.\n",
      "370 is an Armstrong number.\n"
     ]
    }
   ],
   "source": [
    "#9. Check Whether a Number is a Perfect Number or an Armstrong Number\n",
    "\n",
    "def is_perfect_number(num):\n",
    "    sum_of_divisors = sum([i for i in range(1, num) if num % i == 0])\n",
    "    return sum_of_divisors == num\n",
    "\n",
    "def is_armstrong_number(num):\n",
    "    num_str = str(num)\n",
    "    num_len = len(num_str)\n",
    "    sum_of_powers = sum(int(digit)**num_len for digit in num_str)\n",
    "    return sum_of_powers == num\n",
    "\n",
    "# Test the functions\n",
    "num = 496\n",
    "if is_perfect_number(num):\n",
    "    print(f\"{num} is a perfect number.\")\n",
    "else:\n",
    "    print(f\"{num} is not a perfect number.\")\n",
    "\n",
    "num = 370\n",
    "if is_armstrong_number(num):\n",
    "    print(f\"{num} is an Armstrong number.\")\n",
    "else:\n",
    "    print(f\"{num} is not an Armstrong number.\")\n"
   ]
  },
  {
   "cell_type": "code",
   "execution_count": 22,
   "id": "b7203025",
   "metadata": {},
   "outputs": [
    {
     "name": "stdout",
     "output_type": "stream",
     "text": [
      "Fibonacci series up to 10 terms: [0, 1, 1, 2, 3, 5, 8, 13, 21, 34]\n"
     ]
    }
   ],
   "source": [
    "#10. Generate the Fibonacci Series Up to n\n",
    "\n",
    "def fibonacci_series(n):\n",
    "    fib_series = [0, 1]\n",
    "    while len(fib_series) < n:\n",
    "        fib_series.append(fib_series[-1] + fib_series[-2])\n",
    "    return fib_series[:n]\n",
    "\n",
    "# Test the function\n",
    "n = 10\n",
    "print(f\"Fibonacci series up to {n} terms: {fibonacci_series(n)}\")\n"
   ]
  },
  {
   "cell_type": "code",
   "execution_count": 25,
   "id": "797186c8",
   "metadata": {},
   "outputs": [],
   "source": [
    "# Miscellaneous "
   ]
  },
  {
   "cell_type": "code",
   "execution_count": 26,
   "id": "88857476",
   "metadata": {},
   "outputs": [
    {
     "name": "stdout",
     "output_type": "stream",
     "text": [
      "The maximum of 5, 10, and 3 is 10\n"
     ]
    }
   ],
   "source": [
    "#1. Program to Find Maximum of Three Numbers\n",
    "\n",
    "def maximum_of_three(a, b, c):\n",
    "    return max(a, b, c)\n",
    "\n",
    "# Test the function\n",
    "a = 5\n",
    "b = 10\n",
    "c = 3\n",
    "print(f\"The maximum of {a}, {b}, and {c} is {maximum_of_three(a, b, c)}\")\n"
   ]
  },
  {
   "cell_type": "code",
   "execution_count": 28,
   "id": "268a80ca",
   "metadata": {},
   "outputs": [
    {
     "name": "stdout",
     "output_type": "stream",
     "text": [
      "Percentage: 95%, Grade A\n"
     ]
    }
   ],
   "source": [
    "#2. Program for Grading System\n",
    "\n",
    "def grade_system(percentage):\n",
    "    if percentage >= 90:\n",
    "        return \"Grade A\"\n",
    "    elif percentage >= 80:\n",
    "        return \"Grade B\"\n",
    "    elif percentage >= 70:\n",
    "        return \"Grade C\"\n",
    "    elif percentage >= 60:\n",
    "        return \"Grade D\"\n",
    "    elif percentage >= 40:\n",
    "        return \"Grade E\"\n",
    "    else:\n",
    "        return \"Grade F\"\n",
    "\n",
    "\n",
    "percentage = 95\n",
    "print(f\"Percentage: {percentage}%, {grade_system(percentage)}\")\n"
   ]
  },
  {
   "cell_type": "code",
   "execution_count": 29,
   "id": "3726b8d0",
   "metadata": {},
   "outputs": [
    {
     "name": "stdout",
     "output_type": "stream",
     "text": [
      "56 is a Buzz number.\n"
     ]
    }
   ],
   "source": [
    "#3. Program to Check Whether a Number is Buzz or Not\n",
    "\n",
    "def is_buzz_number(num):\n",
    "    return num % 7 == 0 or num % 10 == 7\n",
    "\n",
    "# Test the function\n",
    "num = 56\n",
    "if is_buzz_number(num):\n",
    "    print(f\"{num} is a Buzz number.\")\n",
    "else:\n",
    "    print(f\"{num} is not a Buzz number.\")\n"
   ]
  },
  {
   "cell_type": "code",
   "execution_count": 30,
   "id": "ce91ee44",
   "metadata": {},
   "outputs": [
    {
     "name": "stdout",
     "output_type": "stream",
     "text": [
      "Factorial of 12 is 479001600\n"
     ]
    }
   ],
   "source": [
    "#4. Program to Calculate Factorial of 12\n",
    "\n",
    "def factorial(n):\n",
    "    if n == 0:\n",
    "        return 1\n",
    "    else:\n",
    "        return n * factorial(n - 1)\n",
    "\n",
    "print(f\"Factorial of 12 is {factorial(12)}\")\n"
   ]
  },
  {
   "cell_type": "code",
   "execution_count": 31,
   "id": "8a6d478d",
   "metadata": {},
   "outputs": [
    {
     "name": "stdout",
     "output_type": "stream",
     "text": [
      "Eligible students: ['Arnab']\n"
     ]
    }
   ],
   "source": [
    "#5. Program to Process Applications for Course Admission\n",
    "\n",
    "def check_admission(maths, physics, chemistry):\n",
    "    total = maths + physics + chemistry\n",
    "    if (maths >= 60 and physics >= 50 and chemistry >= 40 and total >= 200) or (maths + physics >= 150):\n",
    "        return True\n",
    "    else:\n",
    "        return False\n",
    "\n",
    "students = [\n",
    "    {\"name\": \"Arnab\", \"maths\": 100, \"physics\": 90, \"chemistry\": 94},\n",
    "    {\"name\": \"xy\", \"maths\": 50, \"physics\": 60, \"chemistry\": 70}]\n",
    "\n",
    "eligible_students = [student[\"name\"] for student in students if check_admission(student[\"maths\"], student[\"physics\"], student[\"chemistry\"])]\n",
    "print(\"Eligible students:\", eligible_students)\n"
   ]
  },
  {
   "cell_type": "code",
   "execution_count": 33,
   "id": "f699682a",
   "metadata": {},
   "outputs": [
    {
     "name": "stdout",
     "output_type": "stream",
     "text": [
      "Roots of the equation are (0.8333333333333334+1.1426091000668406j) and (0.8333333333333334-1.1426091000668406j)\n"
     ]
    }
   ],
   "source": [
    "#6. Program to Find All Roots of a Quadratic Equation\n",
    "\n",
    "import cmath\n",
    "\n",
    "def find_roots(a, b, c):\n",
    "    discriminant = b**2 - 4*a*c\n",
    "    root1 = (-b + cmath.sqrt(discriminant)) / (2*a)\n",
    "    root2 = (-b - cmath.sqrt(discriminant)) / (2*a)\n",
    "    return root1, root2\n",
    "\n",
    "a = 3\n",
    "b = -5\n",
    "c = 6\n",
    "root1, root2 = find_roots(a, b, c)\n",
    "print(f\"Roots of the equation are {root1} and {root2}\")\n"
   ]
  },
  {
   "cell_type": "code",
   "execution_count": 34,
   "id": "7950be22",
   "metadata": {},
   "outputs": [
    {
     "name": "stdout",
     "output_type": "stream",
     "text": [
      "Multiples of 10 between 10 and 100 are: [10, 20, 30, 40, 50, 60, 70, 80, 90, 100]\n"
     ]
    }
   ],
   "source": [
    "#7. Program to Print All Multiples of 10 Between a Given Interval\n",
    "\n",
    "def multiples_of_10(start, end):\n",
    "    return [num for num in range(start, end + 1) if num % 10 == 0]\n",
    "\n",
    "# Test the function\n",
    "start = 10\n",
    "end = 100\n",
    "print(f\"Multiples of 10 between {start} and {end} are: {multiples_of_10(start, end)}\")\n"
   ]
  },
  {
   "cell_type": "code",
   "execution_count": 35,
   "id": "cba66bbf",
   "metadata": {},
   "outputs": [
    {
     "name": "stdout",
     "output_type": "stream",
     "text": [
      "1 x 1 = 1\n",
      "1 x 2 = 2\n",
      "1 x 3 = 3\n",
      "1 x 4 = 4\n",
      "1 x 5 = 5\n",
      "1 x 6 = 6\n",
      "1 x 7 = 7\n",
      "1 x 8 = 8\n",
      "1 x 9 = 9\n",
      "1 x 10 = 10\n"
     ]
    }
   ],
   "source": [
    "#8. Program to Generate Multiplication Table\n",
    "\n",
    "def multiplication_table(num, up_to):\n",
    "    table = []\n",
    "    for i in range(1, up_to + 1):\n",
    "        table.append(f\"{num} x {i} = {num * i}\")\n",
    "    return table\n",
    "\n",
    "num = 1\n",
    "up_to = 10\n",
    "print(\"\\n\".join(multiplication_table(num, up_to)))\n"
   ]
  },
  {
   "cell_type": "code",
   "execution_count": 36,
   "id": "55e67ace",
   "metadata": {},
   "outputs": [
    {
     "name": "stdout",
     "output_type": "stream",
     "text": [
      "HCF of 120 and 50 is 10\n"
     ]
    }
   ],
   "source": [
    "#9. Program to Find HCF of Two Numbers\n",
    "\n",
    "def hcf(a, b):\n",
    "    while b:\n",
    "        a, b = b, a % b\n",
    "    return a\n",
    "\n",
    "a = 120\n",
    "b = 50\n",
    "print(f\"HCF of {a} and {b} is {hcf(a, b)}\")\n"
   ]
  },
  {
   "cell_type": "code",
   "execution_count": 37,
   "id": "3f5d46c7",
   "metadata": {},
   "outputs": [
    {
     "name": "stdout",
     "output_type": "stream",
     "text": [
      "LCM of 12 and 6 is 12\n"
     ]
    }
   ],
   "source": [
    "#10. Program to Find LCM of Two Numbers\n",
    "\n",
    "def lcm(a, b):\n",
    "    return abs(a*b) // hcf(a, b)\n",
    "\n",
    "a = 12\n",
    "b = 6\n",
    "print(f\"LCM of {a} and {b} is {lcm(a, b)}\")\n"
   ]
  },
  {
   "cell_type": "code",
   "execution_count": null,
   "id": "5af324c0",
   "metadata": {},
   "outputs": [],
   "source": []
  }
 ],
 "metadata": {
  "kernelspec": {
   "display_name": "Python 3 (ipykernel)",
   "language": "python",
   "name": "python3"
  },
  "language_info": {
   "codemirror_mode": {
    "name": "ipython",
    "version": 3
   },
   "file_extension": ".py",
   "mimetype": "text/x-python",
   "name": "python",
   "nbconvert_exporter": "python",
   "pygments_lexer": "ipython3",
   "version": "3.11.7"
  }
 },
 "nbformat": 4,
 "nbformat_minor": 5
}
